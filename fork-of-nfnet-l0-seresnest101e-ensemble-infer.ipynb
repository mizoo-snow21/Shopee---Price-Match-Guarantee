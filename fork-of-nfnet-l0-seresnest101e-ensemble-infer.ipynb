{
 "cells": [
  {
   "cell_type": "code",
   "execution_count": 1,
   "id": "2c9beb7c",
   "metadata": {
    "execution": {
     "iopub.execute_input": "2021-05-07T00:47:42.818060Z",
     "iopub.status.busy": "2021-05-07T00:47:42.817113Z",
     "iopub.status.idle": "2021-05-07T00:47:53.289026Z",
     "shell.execute_reply": "2021-05-07T00:47:53.288264Z"
    },
    "papermill": {
     "duration": 10.495108,
     "end_time": "2021-05-07T00:47:53.289185",
     "exception": false,
     "start_time": "2021-05-07T00:47:42.794077",
     "status": "completed"
    },
    "tags": []
   },
   "outputs": [
    {
     "ename": "ModuleNotFoundError",
     "evalue": "No module named 'cudf'",
     "output_type": "error",
     "traceback": [
      "\u001b[0;31m---------------------------------------------------------------------------\u001b[0m",
      "\u001b[0;31mModuleNotFoundError\u001b[0m                       Traceback (most recent call last)",
      "\u001b[0;32m<ipython-input-1-0d0f9a38decb>\u001b[0m in \u001b[0;36m<module>\u001b[0;34m\u001b[0m\n\u001b[1;32m     19\u001b[0m \u001b[0;34m\u001b[0m\u001b[0m\n\u001b[1;32m     20\u001b[0m \u001b[0;32mimport\u001b[0m \u001b[0mgc\u001b[0m\u001b[0;34m\u001b[0m\u001b[0;34m\u001b[0m\u001b[0m\n\u001b[0;32m---> 21\u001b[0;31m \u001b[0;32mimport\u001b[0m \u001b[0mcudf\u001b[0m\u001b[0;34m\u001b[0m\u001b[0;34m\u001b[0m\u001b[0m\n\u001b[0m\u001b[1;32m     22\u001b[0m \u001b[0;32mimport\u001b[0m \u001b[0mcuml\u001b[0m\u001b[0;34m\u001b[0m\u001b[0;34m\u001b[0m\u001b[0m\n\u001b[1;32m     23\u001b[0m \u001b[0;32mimport\u001b[0m \u001b[0mcupy\u001b[0m\u001b[0;34m\u001b[0m\u001b[0;34m\u001b[0m\u001b[0m\n",
      "\u001b[0;31mModuleNotFoundError\u001b[0m: No module named 'cudf'"
     ]
    }
   ],
   "source": [
    "import numpy as np \n",
    "import pandas as pd \n",
    "\n",
    "import math\n",
    "import random \n",
    "import os \n",
    "import cv2\n",
    "import timm\n",
    "\n",
    "from tqdm import tqdm \n",
    "\n",
    "import albumentations as A \n",
    "from albumentations.pytorch.transforms import ToTensorV2\n",
    "\n",
    "import torch \n",
    "from torch.utils.data import Dataset \n",
    "from torch import nn\n",
    "import torch.nn.functional as F \n",
    "\n",
    "import gc\n",
    "import cudf\n",
    "import cuml\n",
    "import cupy\n",
    "from cuml.feature_extraction.text import TfidfVectorizer\n",
    "from cuml.neighbors import NearestNeighbors"
   ]
  },
  {
   "cell_type": "code",
   "execution_count": 3,
   "id": "825e7d6d",
   "metadata": {
    "execution": {
     "iopub.execute_input": "2021-05-07T00:47:53.329466Z",
     "iopub.status.busy": "2021-05-07T00:47:53.328358Z",
     "iopub.status.idle": "2021-05-07T00:47:53.332300Z",
     "shell.execute_reply": "2021-05-07T00:47:53.331748Z"
    },
    "papermill": {
     "duration": 0.025786,
     "end_time": "2021-05-07T00:47:53.332431",
     "exception": false,
     "start_time": "2021-05-07T00:47:53.306645",
     "status": "completed"
    },
    "tags": []
   },
   "outputs": [],
   "source": [
    "class CFG:\n",
    "    \n",
    "    img_size = 512\n",
    "    batch_size = 12\n",
    "    seed = 2020\n",
    "    \n",
    "    device = 'cuda'\n",
    "    classes = 11014\n",
    "    \n",
    "    scale = 30 \n",
    "    margin = 0.5"
   ]
  },
  {
   "cell_type": "code",
   "execution_count": 4,
   "id": "d96044f9",
   "metadata": {
    "execution": {
     "iopub.execute_input": "2021-05-07T00:47:53.371455Z",
     "iopub.status.busy": "2021-05-07T00:47:53.370487Z",
     "iopub.status.idle": "2021-05-07T00:47:53.374606Z",
     "shell.execute_reply": "2021-05-07T00:47:53.373926Z"
    },
    "papermill": {
     "duration": 0.025319,
     "end_time": "2021-05-07T00:47:53.374751",
     "exception": false,
     "start_time": "2021-05-07T00:47:53.349432",
     "status": "completed"
    },
    "tags": []
   },
   "outputs": [],
   "source": [
    "def read_dataset():\n",
    "    df = pd.read_csv('../input/shopee-product-matching/test.csv')\n",
    "    df_cu = cudf.DataFrame(df)\n",
    "    image_paths = '../input/shopee-product-matching/test_images/' + df['image']\n",
    "    return df, df_cu, image_paths"
   ]
  },
  {
   "cell_type": "code",
   "execution_count": 5,
   "id": "54bf0916",
   "metadata": {
    "execution": {
     "iopub.execute_input": "2021-05-07T00:47:53.415845Z",
     "iopub.status.busy": "2021-05-07T00:47:53.414945Z",
     "iopub.status.idle": "2021-05-07T00:47:53.422328Z",
     "shell.execute_reply": "2021-05-07T00:47:53.421797Z"
    },
    "papermill": {
     "duration": 0.030757,
     "end_time": "2021-05-07T00:47:53.422501",
     "exception": false,
     "start_time": "2021-05-07T00:47:53.391744",
     "status": "completed"
    },
    "tags": []
   },
   "outputs": [],
   "source": [
    "def seed_torch(seed=42):\n",
    "    random.seed(seed)\n",
    "    os.environ['PYTHONHASHSEED'] = str(seed)\n",
    "    np.random.seed(seed)\n",
    "    torch.manual_seed(seed)\n",
    "    torch.cuda.manual_seed(seed)\n",
    "    torch.backends.cudnn.deterministic = True\n",
    "    \n",
    "seed_torch(CFG.seed)"
   ]
  },
  {
   "cell_type": "code",
   "execution_count": 6,
   "id": "ccbb8bd5",
   "metadata": {
    "execution": {
     "iopub.execute_input": "2021-05-07T00:47:53.462008Z",
     "iopub.status.busy": "2021-05-07T00:47:53.461372Z",
     "iopub.status.idle": "2021-05-07T00:47:53.466165Z",
     "shell.execute_reply": "2021-05-07T00:47:53.465676Z"
    },
    "papermill": {
     "duration": 0.026468,
     "end_time": "2021-05-07T00:47:53.466284",
     "exception": false,
     "start_time": "2021-05-07T00:47:53.439816",
     "status": "completed"
    },
    "tags": []
   },
   "outputs": [],
   "source": [
    "def combine_predictions(row):\n",
    "    x = np.concatenate([row['image_predictions'], row['text_predictions']])\n",
    "    return ' '.join( np.unique(x))"
   ]
  },
  {
   "cell_type": "code",
   "execution_count": 7,
   "id": "ab98b6d8",
   "metadata": {
    "execution": {
     "iopub.execute_input": "2021-05-07T00:47:53.514255Z",
     "iopub.status.busy": "2021-05-07T00:47:53.513519Z",
     "iopub.status.idle": "2021-05-07T00:47:53.517447Z",
     "shell.execute_reply": "2021-05-07T00:47:53.516917Z"
    },
    "papermill": {
     "duration": 0.0283,
     "end_time": "2021-05-07T00:47:53.517572",
     "exception": false,
     "start_time": "2021-05-07T00:47:53.489272",
     "status": "completed"
    },
    "tags": []
   },
   "outputs": [],
   "source": [
    "def get_image_predictions(df, embeddings,threshold = 0.0):\n",
    "    \n",
    "    if len(df) > 3:\n",
    "        KNN = 50\n",
    "    else : \n",
    "        KNN = 3\n",
    "    \n",
    "    model = NearestNeighbors(n_neighbors = KNN, metric = 'cosine')\n",
    "    model.fit(embeddings)\n",
    "    distances, indices = model.kneighbors(embeddings)\n",
    "    \n",
    "    predictions = []\n",
    "    for k in tqdm(range(embeddings.shape[0])):\n",
    "        idx = np.where(distances[k,] < threshold)[0]\n",
    "        ids = indices[k,idx]\n",
    "        posting_ids = df['posting_id'].iloc[ids].values\n",
    "        predictions.append(posting_ids)\n",
    "        \n",
    "    del model, distances, indices\n",
    "    gc.collect()\n",
    "    return predictions"
   ]
  },
  {
   "cell_type": "code",
   "execution_count": 8,
   "id": "10189bdd",
   "metadata": {
    "execution": {
     "iopub.execute_input": "2021-05-07T00:47:53.559982Z",
     "iopub.status.busy": "2021-05-07T00:47:53.557736Z",
     "iopub.status.idle": "2021-05-07T00:47:53.561219Z",
     "shell.execute_reply": "2021-05-07T00:47:53.561740Z"
    },
    "papermill": {
     "duration": 0.027028,
     "end_time": "2021-05-07T00:47:53.561894",
     "exception": false,
     "start_time": "2021-05-07T00:47:53.534866",
     "status": "completed"
    },
    "tags": []
   },
   "outputs": [],
   "source": [
    "def get_test_transforms():\n",
    "\n",
    "    return A.Compose(\n",
    "        [\n",
    "            A.Resize(CFG.img_size,CFG.img_size,always_apply=True),\n",
    "            A.Normalize(),\n",
    "        ToTensorV2(p=1.0)\n",
    "        ]\n",
    "    )"
   ]
  },
  {
   "cell_type": "code",
   "execution_count": 9,
   "id": "fef32d9b",
   "metadata": {
    "execution": {
     "iopub.execute_input": "2021-05-07T00:47:53.605975Z",
     "iopub.status.busy": "2021-05-07T00:47:53.605108Z",
     "iopub.status.idle": "2021-05-07T00:47:53.609546Z",
     "shell.execute_reply": "2021-05-07T00:47:53.609003Z"
    },
    "papermill": {
     "duration": 0.028956,
     "end_time": "2021-05-07T00:47:53.609676",
     "exception": false,
     "start_time": "2021-05-07T00:47:53.580720",
     "status": "completed"
    },
    "tags": []
   },
   "outputs": [],
   "source": [
    "class ShopeeDataset(Dataset):\n",
    "    def __init__(self, image_paths, transforms=None):\n",
    "\n",
    "        self.image_paths = image_paths\n",
    "        self.augmentations = transforms\n",
    "\n",
    "    def __len__(self):\n",
    "        return self.image_paths.shape[0]\n",
    "\n",
    "    def __getitem__(self, index):\n",
    "        image_path = self.image_paths[index]\n",
    "        \n",
    "        image = cv2.imread(image_path)\n",
    "        image = cv2.cvtColor(image, cv2.COLOR_BGR2RGB)\n",
    "        \n",
    "        if self.augmentations:\n",
    "            augmented = self.augmentations(image=image)\n",
    "            image = augmented['image']       \n",
    "    \n",
    "        return image,torch.tensor(1)"
   ]
  },
  {
   "cell_type": "code",
   "execution_count": 10,
   "id": "f335f0a3",
   "metadata": {
    "execution": {
     "iopub.execute_input": "2021-05-07T00:47:53.657835Z",
     "iopub.status.busy": "2021-05-07T00:47:53.655507Z",
     "iopub.status.idle": "2021-05-07T00:47:53.658689Z",
     "shell.execute_reply": "2021-05-07T00:47:53.659232Z"
    },
    "papermill": {
     "duration": 0.031821,
     "end_time": "2021-05-07T00:47:53.659420",
     "exception": false,
     "start_time": "2021-05-07T00:47:53.627599",
     "status": "completed"
    },
    "tags": []
   },
   "outputs": [],
   "source": [
    "class GeM(nn.Module):\n",
    "    def __init__(self, p=3, eps=1e-6):\n",
    "        super(GeM,self).__init__()\n",
    "        self.p = nn.Parameter(torch.ones(1)*p)\n",
    "        self.eps = eps\n",
    "\n",
    "    def forward(self, x):\n",
    "        return self.gem(x, p=self.p, eps=self.eps)\n",
    "        \n",
    "    def gem(self, x, p=3, eps=1e-6):\n",
    "        return F.avg_pool2d(x.clamp(min=eps).pow(p), (x.size(-2), x.size(-1))).pow(1./p)\n",
    "        \n",
    "    def __repr__(self):\n",
    "        return self.__class__.__name__ + '(' + 'p=' + '{:.4f}'.format(self.p.data.tolist()[0]) + ', ' + 'eps=' + str(self.eps) + ')'"
   ]
  },
  {
   "cell_type": "code",
   "execution_count": 11,
   "id": "b00b3706",
   "metadata": {
    "execution": {
     "iopub.execute_input": "2021-05-07T00:47:53.712184Z",
     "iopub.status.busy": "2021-05-07T00:47:53.710110Z",
     "iopub.status.idle": "2021-05-07T00:47:53.715441Z",
     "shell.execute_reply": "2021-05-07T00:47:53.714894Z"
    },
    "papermill": {
     "duration": 0.037422,
     "end_time": "2021-05-07T00:47:53.715587",
     "exception": false,
     "start_time": "2021-05-07T00:47:53.678165",
     "status": "completed"
    },
    "tags": []
   },
   "outputs": [],
   "source": [
    "'''\n",
    "credit : https://github.com/HuangYG123/CurricularFace/blob/8b2f47318117995aa05490c05b455b113489917e/head/metrics.py#L70\n",
    "'''\n",
    "\n",
    "def l2_norm(input, axis = 1):\n",
    "    norm = torch.norm(input, 2, axis, True)\n",
    "    output = torch.div(input, norm)\n",
    "\n",
    "    return output\n",
    "\n",
    "class CurricularFace(nn.Module):\n",
    "    def __init__(self, in_features, out_features, s = 30, m = 0.50):\n",
    "        super(CurricularFace, self).__init__()\n",
    "\n",
    "        print('Using Curricular Face')\n",
    "\n",
    "        self.in_features = in_features\n",
    "        self.out_features = out_features\n",
    "        self.m = m\n",
    "        self.s = s\n",
    "        self.cos_m = math.cos(m)\n",
    "        self.sin_m = math.sin(m)\n",
    "        self.threshold = math.cos(math.pi - m)\n",
    "        self.mm = math.sin(math.pi - m) * m\n",
    "        self.kernel = nn.Parameter(torch.Tensor(in_features, out_features))\n",
    "        self.register_buffer('t', torch.zeros(1))\n",
    "        nn.init.normal_(self.kernel, std=0.01)\n",
    "\n",
    "    def forward(self, embbedings, label):\n",
    "        embbedings = l2_norm(embbedings, axis = 1)\n",
    "        kernel_norm = l2_norm(self.kernel, axis = 0)\n",
    "        cos_theta = torch.mm(embbedings, kernel_norm)\n",
    "        cos_theta = cos_theta.clamp(-1, 1)  # for numerical stability\n",
    "        with torch.no_grad():\n",
    "            origin_cos = cos_theta.clone()\n",
    "        target_logit = cos_theta[torch.arange(0, embbedings.size(0)), label].view(-1, 1)\n",
    "\n",
    "        sin_theta = torch.sqrt(1.0 - torch.pow(target_logit, 2))\n",
    "        cos_theta_m = target_logit * self.cos_m - sin_theta * self.sin_m #cos(target+margin)\n",
    "        mask = cos_theta > cos_theta_m\n",
    "        final_target_logit = torch.where(target_logit > self.threshold, cos_theta_m, target_logit - self.mm)\n",
    "\n",
    "        hard_example = cos_theta[mask]\n",
    "        with torch.no_grad():\n",
    "            self.t = target_logit.mean() * 0.01 + (1 - 0.01) * self.t\n",
    "        cos_theta[mask] = hard_example * (self.t + hard_example)\n",
    "        cos_theta.scatter_(1, label.view(-1, 1).long(), final_target_logit)\n",
    "        output = cos_theta * self.s\n",
    "        return output, nn.CrossEntropyLoss()(output,label)"
   ]
  },
  {
   "cell_type": "code",
   "execution_count": 12,
   "id": "0e147b38",
   "metadata": {
    "execution": {
     "iopub.execute_input": "2021-05-07T00:47:53.775936Z",
     "iopub.status.busy": "2021-05-07T00:47:53.765828Z",
     "iopub.status.idle": "2021-05-07T00:47:53.779525Z",
     "shell.execute_reply": "2021-05-07T00:47:53.778953Z"
    },
    "papermill": {
     "duration": 0.045588,
     "end_time": "2021-05-07T00:47:53.779662",
     "exception": false,
     "start_time": "2021-05-07T00:47:53.734074",
     "status": "completed"
    },
    "tags": []
   },
   "outputs": [],
   "source": [
    "class ArcMarginProduct(nn.Module):\n",
    "    def __init__(self, in_features, out_features, scale=30.0, margin=0.50, easy_margin=False, ls_eps=0.0):\n",
    "        super(ArcMarginProduct, self).__init__()\n",
    "        self.in_features = in_features\n",
    "        self.out_features = out_features\n",
    "        self.scale = scale\n",
    "        self.margin = margin\n",
    "        self.ls_eps = ls_eps  # label smoothing\n",
    "        self.weight = nn.Parameter(torch.FloatTensor(out_features, in_features))\n",
    "        nn.init.xavier_uniform_(self.weight)\n",
    "\n",
    "        self.easy_margin = easy_margin\n",
    "        self.cos_m = math.cos(margin)\n",
    "        self.sin_m = math.sin(margin)\n",
    "        self.th = math.cos(math.pi - margin)\n",
    "        self.mm = math.sin(math.pi - margin) * margin\n",
    "\n",
    "    def forward(self, input, label):\n",
    "        # --------------------------- cos(theta) & phi(theta) ---------------------------\n",
    "        cosine = F.linear(F.normalize(input), F.normalize(self.weight))\n",
    "        sine = torch.sqrt(1.0 - torch.pow(cosine, 2))\n",
    "        phi = cosine * self.cos_m - sine * self.sin_m\n",
    "        if self.easy_margin:\n",
    "            phi = torch.where(cosine > 0, phi, cosine)\n",
    "        else:\n",
    "            phi = torch.where(cosine > self.th, phi, cosine - self.mm)\n",
    "        # --------------------------- convert label to one-hot ---------------------------\n",
    "        # one_hot = torch.zeros(cosine.size(), requires_grad=True, device='cuda')\n",
    "        one_hot = torch.zeros(cosine.size(), device='cuda')\n",
    "        one_hot.scatter_(1, label.view(-1, 1).long(), 1)\n",
    "        if self.ls_eps > 0:\n",
    "            one_hot = (1 - self.ls_eps) * one_hot + self.ls_eps / self.out_features\n",
    "        # -------------torch.where(out_i = {x_i if condition_i else y_i) -------------\n",
    "        output = (one_hot * phi) + ((1.0 - one_hot) * cosine)\n",
    "        output *= self.scale\n",
    "\n",
    "        return output\n",
    "\n",
    "class ShopeeModel(nn.Module):\n",
    "\n",
    "    def __init__(\n",
    "        self,\n",
    "        n_classes = CFG.classes,\n",
    "        model_name = None,\n",
    "        fc_dim = 512,\n",
    "        margin = CFG.margin,\n",
    "        scale = CFG.scale,\n",
    "        use_fc = True,\n",
    "        pretrained = False):\n",
    "\n",
    "\n",
    "        super(ShopeeModel,self).__init__()\n",
    "        print('Building Model Backbone for {} model'.format(model_name))\n",
    "\n",
    "        self.backbone = timm.create_model(model_name, pretrained=pretrained)\n",
    "\n",
    "        if model_name == 'resnest101e':\n",
    "            final_in_features = self.backbone.fc.in_features\n",
    "            self.backbone.fc = nn.Identity()\n",
    "            self.backbone.global_pool = nn.Identity()\n",
    "\n",
    "        elif 'efficientnet' in model_name:\n",
    "            final_in_features = self.backbone.classifier.in_features\n",
    "            self.backbone.classifier = nn.Identity()\n",
    "            self.backbone.global_pool = nn.Identity()\n",
    "        \n",
    "        elif model_name == 'eca_nfnet_l0':\n",
    "            final_in_features = self.backbone.head.fc.in_features\n",
    "            self.backbone.head.fc = nn.Identity()\n",
    "            self.backbone.head.global_pool = nn.Identity()\n",
    "\n",
    "        self.pooling =  GeM()\n",
    "\n",
    "        self.use_fc = use_fc\n",
    "\n",
    "        self.dropout = nn.Dropout(p=0.0)\n",
    "        self.fc = nn.Linear(final_in_features, fc_dim)\n",
    "        self.bn = nn.BatchNorm1d(fc_dim)\n",
    "        self._init_params()\n",
    "        final_in_features = fc_dim\n",
    "\n",
    "        self.final = CurricularFace(\n",
    "            final_in_features,\n",
    "            n_classes,\n",
    "            s = scale,\n",
    "            m = margin\n",
    "        )\n",
    "\n",
    "    def _init_params(self):\n",
    "        nn.init.xavier_normal_(self.fc.weight)\n",
    "        nn.init.constant_(self.fc.bias, 0)\n",
    "        nn.init.constant_(self.bn.weight, 1)\n",
    "        nn.init.constant_(self.bn.bias, 0)\n",
    "\n",
    "    def forward(self, image, label):\n",
    "        feature = self.extract_feat(image)\n",
    "        #logits = self.final(feature,label)\n",
    "        return feature\n",
    "\n",
    "    def extract_feat(self, x):\n",
    "        batch_size = x.shape[0]\n",
    "        x = self.backbone(x)\n",
    "        x = self.pooling(x).view(batch_size, -1)\n",
    "\n",
    "        if self.use_fc:\n",
    "            x = self.dropout(x)\n",
    "            x = self.fc(x)\n",
    "            x = self.bn(x)\n",
    "        return x"
   ]
  },
  {
   "cell_type": "code",
   "execution_count": 13,
   "id": "1f952b4c",
   "metadata": {
    "execution": {
     "iopub.execute_input": "2021-05-07T00:47:53.828551Z",
     "iopub.status.busy": "2021-05-07T00:47:53.827480Z",
     "iopub.status.idle": "2021-05-07T00:47:53.830864Z",
     "shell.execute_reply": "2021-05-07T00:47:53.830329Z"
    },
    "papermill": {
     "duration": 0.032959,
     "end_time": "2021-05-07T00:47:53.830996",
     "exception": false,
     "start_time": "2021-05-07T00:47:53.798037",
     "status": "completed"
    },
    "tags": []
   },
   "outputs": [],
   "source": [
    "class Mish_func(torch.autograd.Function):\n",
    "    \n",
    "    \"\"\"from: https://github.com/tyunist/memory_efficient_mish_swish/blob/master/mish.py\"\"\"\n",
    "    \n",
    "    @staticmethod\n",
    "    def forward(ctx, i):\n",
    "        result = i * torch.tanh(F.softplus(i))\n",
    "        ctx.save_for_backward(i)\n",
    "        return result\n",
    "\n",
    "    @staticmethod\n",
    "    def backward(ctx, grad_output):\n",
    "        i = ctx.saved_variables[0]\n",
    "  \n",
    "        v = 1. + i.exp()\n",
    "        h = v.log() \n",
    "        grad_gh = 1./h.cosh().pow_(2) \n",
    "\n",
    "        # Note that grad_hv * grad_vx = sigmoid(x)\n",
    "        #grad_hv = 1./v  \n",
    "        #grad_vx = i.exp()\n",
    "        \n",
    "        grad_hx = i.sigmoid()\n",
    "\n",
    "        grad_gx = grad_gh *  grad_hx #grad_hv * grad_vx \n",
    "        \n",
    "        grad_f =  torch.tanh(F.softplus(i)) + i * grad_gx \n",
    "        \n",
    "        return grad_output * grad_f \n",
    "\n",
    "\n",
    "class Mish(nn.Module):\n",
    "    def __init__(self, **kwargs):\n",
    "        super().__init__()\n",
    "        pass\n",
    "    def forward(self, input_tensor):\n",
    "        return Mish_func.apply(input_tensor)\n",
    "\n",
    "\n",
    "def replace_activations(model, existing_layer, new_layer):\n",
    "    \n",
    "    \"\"\"A function for replacing existing activation layers\"\"\"\n",
    "    \n",
    "    for name, module in reversed(model._modules.items()):\n",
    "        if len(list(module.children())) > 0:\n",
    "            model._modules[name] = replace_activations(module, existing_layer, new_layer)\n",
    "\n",
    "        if type(module) == existing_layer:\n",
    "            layer_old = module\n",
    "            layer_new = new_layer\n",
    "            model._modules[name] = layer_new\n",
    "    return model"
   ]
  },
  {
   "cell_type": "code",
   "execution_count": 14,
   "id": "d33d5765",
   "metadata": {
    "execution": {
     "iopub.execute_input": "2021-05-07T00:47:53.875182Z",
     "iopub.status.busy": "2021-05-07T00:47:53.874254Z",
     "iopub.status.idle": "2021-05-07T00:47:53.878128Z",
     "shell.execute_reply": "2021-05-07T00:47:53.877622Z"
    },
    "papermill": {
     "duration": 0.028464,
     "end_time": "2021-05-07T00:47:53.878256",
     "exception": false,
     "start_time": "2021-05-07T00:47:53.849792",
     "status": "completed"
    },
    "tags": []
   },
   "outputs": [],
   "source": [
    "def get_model(model_name = None, model_path = None, n_classes = None):\n",
    "    \n",
    "    model = ShopeeModel(model_name = model_name)\n",
    "    if model_name == 'eca_nfnet_l0'or 'tf_efficientnet_b5':\n",
    "        model = replace_activations(model, torch.nn.SiLU, Mish())\n",
    "    elif model_name == 'resnest101e':\n",
    "        model = replace_activations(model, torch.nn.ReLU, Mish())\n",
    "    model.eval()\n",
    "    model.load_state_dict(torch.load(model_path))\n",
    "    model = model.to(CFG.device)\n",
    "    \n",
    "    return model "
   ]
  },
  {
   "cell_type": "code",
   "execution_count": 15,
   "id": "172af119",
   "metadata": {
    "execution": {
     "iopub.execute_input": "2021-05-07T00:47:53.922449Z",
     "iopub.status.busy": "2021-05-07T00:47:53.921556Z",
     "iopub.status.idle": "2021-05-07T00:47:53.925132Z",
     "shell.execute_reply": "2021-05-07T00:47:53.924510Z"
    },
    "papermill": {
     "duration": 0.0281,
     "end_time": "2021-05-07T00:47:53.925268",
     "exception": false,
     "start_time": "2021-05-07T00:47:53.897168",
     "status": "completed"
    },
    "tags": []
   },
   "outputs": [],
   "source": [
    "class EnsembleModel(nn.Module):\n",
    "    \n",
    "    def __init__(self):\n",
    "        super(EnsembleModel,self).__init__()\n",
    "        \n",
    "        self.m1 = get_model('eca_nfnet_l0','../input/nfnetl020/cface_512x512_nfnet_l0(mish)_gem_20.pt')\n",
    "        self.m2 = get_model('resnest101e','../input/resnest101mish20/cface_512x512_resnest(mish)_gem.pt')\n",
    "        self.m3 = get_model('tf_efficientnet_b5','../input/efffb4b5v2/cface_512x512_effb5(mish)_gem.pt')\n",
    "        \n",
    "    def forward(self,img,label):\n",
    "        \n",
    "        feat1 = self.m1(img,label)\n",
    "        feat2 = self.m2(img,label)\n",
    "        feat3 = self.m3(img,label)\n",
    "    \n",
    "        return (feat1 + feat2 + feat3) / 3"
   ]
  },
  {
   "cell_type": "code",
   "execution_count": 16,
   "id": "fafb6c69",
   "metadata": {
    "execution": {
     "iopub.execute_input": "2021-05-07T00:47:53.971936Z",
     "iopub.status.busy": "2021-05-07T00:47:53.970869Z",
     "iopub.status.idle": "2021-05-07T00:47:53.974192Z",
     "shell.execute_reply": "2021-05-07T00:47:53.973668Z"
    },
    "papermill": {
     "duration": 0.03018,
     "end_time": "2021-05-07T00:47:53.974338",
     "exception": false,
     "start_time": "2021-05-07T00:47:53.944158",
     "status": "completed"
    },
    "tags": []
   },
   "outputs": [],
   "source": [
    "def get_image_embeddings(image_paths, model_name = None, model_path = None):\n",
    "    embeds = []\n",
    "    \n",
    "    model = EnsembleModel()\n",
    "    \n",
    "    image_dataset = ShopeeDataset(image_paths=image_paths,transforms=get_test_transforms())\n",
    "    image_loader = torch.utils.data.DataLoader(\n",
    "        image_dataset,\n",
    "        batch_size=CFG.batch_size,\n",
    "        pin_memory=True,\n",
    "        drop_last=False,\n",
    "        num_workers=4\n",
    "    )\n",
    "    \n",
    "    \n",
    "    with torch.no_grad():\n",
    "        for img,label in tqdm(image_loader): \n",
    "            img = img.cuda()\n",
    "            label = label.cuda()\n",
    "            feat = model(img,label)\n",
    "            image_embeddings = feat.detach().cpu().numpy()\n",
    "            embeds.append(image_embeddings)\n",
    "    \n",
    "    \n",
    "    del model\n",
    "    image_embeddings = np.concatenate(embeds)\n",
    "    print(f'Our image embeddings shape is {image_embeddings.shape}')\n",
    "    del embeds\n",
    "    gc.collect()\n",
    "    return image_embeddings"
   ]
  },
  {
   "cell_type": "code",
   "execution_count": 17,
   "id": "905fc729",
   "metadata": {
    "execution": {
     "iopub.execute_input": "2021-05-07T00:47:54.022093Z",
     "iopub.status.busy": "2021-05-07T00:47:54.021086Z",
     "iopub.status.idle": "2021-05-07T00:47:54.024664Z",
     "shell.execute_reply": "2021-05-07T00:47:54.024009Z"
    },
    "papermill": {
     "duration": 0.031273,
     "end_time": "2021-05-07T00:47:54.024790",
     "exception": false,
     "start_time": "2021-05-07T00:47:53.993517",
     "status": "completed"
    },
    "tags": []
   },
   "outputs": [],
   "source": [
    "def get_text_predictions(df, max_features = 25_000):\n",
    "    \n",
    "    model = TfidfVectorizer(stop_words = 'english', binary = True, max_features = max_features)\n",
    "    text_embeddings = model.fit_transform(df_cu['title']).toarray()\n",
    "    preds = []\n",
    "    CHUNK = 1024*4\n",
    "\n",
    "    print('Finding similar titles...')\n",
    "    CTS = len(df)//CHUNK\n",
    "    if len(df)%CHUNK!=0: CTS += 1\n",
    "    for j in range( CTS ):\n",
    "\n",
    "        a = j*CHUNK\n",
    "        b = (j+1)*CHUNK\n",
    "        b = min(b,len(df))\n",
    "        print('chunk',a,'to',b)\n",
    "\n",
    "        # COSINE SIMILARITY DISTANCE\n",
    "        cts = cupy.matmul( text_embeddings, text_embeddings[a:b].T).T\n",
    "\n",
    "        for k in range(b-a):\n",
    "            IDX = cupy.where(cts[k,]>0.76)[0]\n",
    "            o = df.iloc[cupy.asnumpy(IDX)].posting_id.values\n",
    "            preds.append(o)\n",
    "    \n",
    "    del model,text_embeddings\n",
    "    gc.collect()\n",
    "    return preds"
   ]
  },
  {
   "cell_type": "code",
   "execution_count": 18,
   "id": "f5a0b9ba",
   "metadata": {
    "execution": {
     "iopub.execute_input": "2021-05-07T00:47:54.067835Z",
     "iopub.status.busy": "2021-05-07T00:47:54.067179Z",
     "iopub.status.idle": "2021-05-07T00:48:03.440085Z",
     "shell.execute_reply": "2021-05-07T00:48:03.439506Z"
    },
    "papermill": {
     "duration": 9.396301,
     "end_time": "2021-05-07T00:48:03.440222",
     "exception": false,
     "start_time": "2021-05-07T00:47:54.043921",
     "status": "completed"
    },
    "tags": []
   },
   "outputs": [
    {
     "data": {
      "text/html": [
       "<div>\n",
       "<style scoped>\n",
       "    .dataframe tbody tr th:only-of-type {\n",
       "        vertical-align: middle;\n",
       "    }\n",
       "\n",
       "    .dataframe tbody tr th {\n",
       "        vertical-align: top;\n",
       "    }\n",
       "\n",
       "    .dataframe thead th {\n",
       "        text-align: right;\n",
       "    }\n",
       "</style>\n",
       "<table border=\"1\" class=\"dataframe\">\n",
       "  <thead>\n",
       "    <tr style=\"text-align: right;\">\n",
       "      <th></th>\n",
       "      <th>posting_id</th>\n",
       "      <th>image</th>\n",
       "      <th>image_phash</th>\n",
       "      <th>title</th>\n",
       "    </tr>\n",
       "  </thead>\n",
       "  <tbody>\n",
       "    <tr>\n",
       "      <th>0</th>\n",
       "      <td>test_2255846744</td>\n",
       "      <td>0006c8e5462ae52167402bac1c2e916e.jpg</td>\n",
       "      <td>ecc292392dc7687a</td>\n",
       "      <td>Edufuntoys - CHARACTER PHONE ada lampu dan mus...</td>\n",
       "    </tr>\n",
       "    <tr>\n",
       "      <th>1</th>\n",
       "      <td>test_3588702337</td>\n",
       "      <td>0007585c4d0f932859339129f709bfdc.jpg</td>\n",
       "      <td>e9968f60d2699e2c</td>\n",
       "      <td>(Beli 1 Free Spatula) Masker Komedo | Blackhea...</td>\n",
       "    </tr>\n",
       "    <tr>\n",
       "      <th>2</th>\n",
       "      <td>test_4015706929</td>\n",
       "      <td>0008377d3662e83ef44e1881af38b879.jpg</td>\n",
       "      <td>ba81c17e3581cabe</td>\n",
       "      <td>READY Lemonilo Mie instant sehat kuah dan goreng</td>\n",
       "    </tr>\n",
       "  </tbody>\n",
       "</table>\n",
       "</div>"
      ],
      "text/plain": [
       "        posting_id                                 image       image_phash  \\\n",
       "0  test_2255846744  0006c8e5462ae52167402bac1c2e916e.jpg  ecc292392dc7687a   \n",
       "1  test_3588702337  0007585c4d0f932859339129f709bfdc.jpg  e9968f60d2699e2c   \n",
       "2  test_4015706929  0008377d3662e83ef44e1881af38b879.jpg  ba81c17e3581cabe   \n",
       "\n",
       "                                               title  \n",
       "0  Edufuntoys - CHARACTER PHONE ada lampu dan mus...  \n",
       "1  (Beli 1 Free Spatula) Masker Komedo | Blackhea...  \n",
       "2   READY Lemonilo Mie instant sehat kuah dan goreng  "
      ]
     },
     "execution_count": 18,
     "metadata": {},
     "output_type": "execute_result"
    }
   ],
   "source": [
    "df,df_cu,image_paths = read_dataset()\n",
    "df.head()"
   ]
  },
  {
   "cell_type": "code",
   "execution_count": 19,
   "id": "a83a0302",
   "metadata": {
    "execution": {
     "iopub.execute_input": "2021-05-07T00:48:03.484638Z",
     "iopub.status.busy": "2021-05-07T00:48:03.483795Z",
     "iopub.status.idle": "2021-05-07T00:48:16.276342Z",
     "shell.execute_reply": "2021-05-07T00:48:16.277142Z"
    },
    "papermill": {
     "duration": 12.817321,
     "end_time": "2021-05-07T00:48:16.277452",
     "exception": false,
     "start_time": "2021-05-07T00:48:03.460131",
     "status": "completed"
    },
    "tags": []
   },
   "outputs": [
    {
     "name": "stdout",
     "output_type": "stream",
     "text": [
      "Building Model Backbone for eca_nfnet_l0 model\n",
      "Using Curricular Face\n",
      "Building Model Backbone for resnest101e model\n",
      "Using Curricular Face\n",
      "Building Model Backbone for tf_efficientnet_b5 model\n",
      "Using Curricular Face\n"
     ]
    },
    {
     "name": "stderr",
     "output_type": "stream",
     "text": [
      "100%|██████████| 1/1 [00:01<00:00,  1.94s/it]\n"
     ]
    },
    {
     "name": "stdout",
     "output_type": "stream",
     "text": [
      "Our image embeddings shape is (3, 512)\n"
     ]
    }
   ],
   "source": [
    "image_embeddings = get_image_embeddings(image_paths.values)"
   ]
  },
  {
   "cell_type": "code",
   "execution_count": 20,
   "id": "2c76a82d",
   "metadata": {
    "execution": {
     "iopub.execute_input": "2021-05-07T00:48:16.337775Z",
     "iopub.status.busy": "2021-05-07T00:48:16.336776Z",
     "iopub.status.idle": "2021-05-07T00:48:36.136445Z",
     "shell.execute_reply": "2021-05-07T00:48:36.137013Z"
    },
    "papermill": {
     "duration": 19.834312,
     "end_time": "2021-05-07T00:48:36.137204",
     "exception": false,
     "start_time": "2021-05-07T00:48:16.302892",
     "status": "completed"
    },
    "tags": []
   },
   "outputs": [
    {
     "name": "stderr",
     "output_type": "stream",
     "text": [
      "100%|██████████| 3/3 [00:00<00:00, 2606.24it/s]\n"
     ]
    },
    {
     "name": "stdout",
     "output_type": "stream",
     "text": [
      "Finding similar titles...\n",
      "chunk 0 to 3\n"
     ]
    }
   ],
   "source": [
    "image_predictions = get_image_predictions(df, image_embeddings, threshold = 0.36)\n",
    "text_predictions = get_text_predictions(df, max_features = 25_000)"
   ]
  },
  {
   "cell_type": "code",
   "execution_count": 21,
   "id": "0d6fcc16",
   "metadata": {
    "execution": {
     "iopub.execute_input": "2021-05-07T00:48:36.199008Z",
     "iopub.status.busy": "2021-05-07T00:48:36.198001Z",
     "iopub.status.idle": "2021-05-07T00:48:36.218121Z",
     "shell.execute_reply": "2021-05-07T00:48:36.216934Z"
    },
    "papermill": {
     "duration": 0.054799,
     "end_time": "2021-05-07T00:48:36.218254",
     "exception": false,
     "start_time": "2021-05-07T00:48:36.163455",
     "status": "completed"
    },
    "tags": []
   },
   "outputs": [],
   "source": [
    "df['image_predictions'] = image_predictions\n",
    "df['text_predictions'] = text_predictions\n",
    "df['matches'] = df.apply(combine_predictions, axis = 1)\n",
    "df[['posting_id', 'matches']].to_csv('submission.csv', index = False)"
   ]
  },
  {
   "cell_type": "code",
   "execution_count": null,
   "id": "b527ce36",
   "metadata": {
    "papermill": {
     "duration": 0.025378,
     "end_time": "2021-05-07T00:48:36.269093",
     "exception": false,
     "start_time": "2021-05-07T00:48:36.243715",
     "status": "completed"
    },
    "tags": []
   },
   "outputs": [],
   "source": []
  }
 ],
 "metadata": {
  "environment": {
   "name": "pytorch-gpu.1-8.m65",
   "type": "gcloud",
   "uri": "gcr.io/deeplearning-platform-release/pytorch-gpu.1-8:m65"
  },
  "kernelspec": {
   "display_name": "Python 3",
   "language": "python",
   "name": "python3"
  },
  "language_info": {
   "codemirror_mode": {
    "name": "ipython",
    "version": 3
   },
   "file_extension": ".py",
   "mimetype": "text/x-python",
   "name": "python",
   "nbconvert_exporter": "python",
   "pygments_lexer": "ipython3",
   "version": "3.7.10"
  },
  "papermill": {
   "default_parameters": {},
   "duration": 64.905359,
   "end_time": "2021-05-07T00:48:39.614502",
   "environment_variables": {},
   "exception": null,
   "input_path": "__notebook__.ipynb",
   "output_path": "__notebook__.ipynb",
   "parameters": {},
   "start_time": "2021-05-07T00:47:34.709143",
   "version": "2.3.3"
  }
 },
 "nbformat": 4,
 "nbformat_minor": 5
}
