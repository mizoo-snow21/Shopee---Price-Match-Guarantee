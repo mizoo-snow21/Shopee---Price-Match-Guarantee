{
 "cells": [
  {
   "cell_type": "code",
   "execution_count": 1,
   "id": "8ed1e887",
   "metadata": {
    "execution": {
     "iopub.execute_input": "2021-04-17T03:46:29.728000Z",
     "iopub.status.busy": "2021-04-17T03:46:29.727242Z",
     "iopub.status.idle": "2021-04-17T03:46:33.224310Z",
     "shell.execute_reply": "2021-04-17T03:46:33.223278Z"
    },
    "executionInfo": {
     "elapsed": 2028,
     "status": "ok",
     "timestamp": 1618284181104,
     "user": {
      "displayName": "ken yos",
      "photoUrl": "https://lh3.googleusercontent.com/a-/AOh14GjzkUCd50LH48gEiHcGcv_ANhcMmDlPTC9WRUfMZvs=s64",
      "userId": "17097843443677736067"
     },
     "user_tz": -540
    },
    "id": "jFcEwg3R6m6w",
    "papermill": {
     "duration": 3.517559,
     "end_time": "2021-04-17T03:46:33.224452",
     "exception": false,
     "start_time": "2021-04-17T03:46:29.706893",
     "status": "completed"
    },
    "tags": []
   },
   "outputs": [],
   "source": [
    "# Preliminaries\n",
    "from tqdm import tqdm\n",
    "import math\n",
    "import random\n",
    "import os\n",
    "import pandas as pd\n",
    "import numpy as np\n",
    "from sklearn.preprocessing import LabelEncoder\n",
    "\n",
    "# Visuals and CV2\n",
    "import cv2\n",
    "\n",
    "# albumentations for augs\n",
    "import albumentations\n",
    "from albumentations.pytorch.transforms import ToTensorV2\n",
    "\n",
    "#torch\n",
    "import torch\n",
    "import timm\n",
    "import torch\n",
    "import torch.nn as nn\n",
    "from torch.nn import Parameter\n",
    "from torch.nn import functional as F\n",
    "from torch.utils.data import Dataset,DataLoader\n",
    "\n",
    "import warnings\n",
    "warnings.filterwarnings('ignore')"
   ]
  },
  {
   "cell_type": "markdown",
   "id": "ab1a573f",
   "metadata": {
    "id": "h2V3T5me6m6x",
    "papermill": {
     "duration": 0.014285,
     "end_time": "2021-04-17T03:46:33.253641",
     "exception": false,
     "start_time": "2021-04-17T03:46:33.239356",
     "status": "completed"
    },
    "tags": []
   },
   "source": [
    "# Configuration"
   ]
  },
  {
   "cell_type": "code",
   "execution_count": 2,
   "id": "3b4bd115",
   "metadata": {},
   "outputs": [],
   "source": [
    "class CFG:\n",
    "    \n",
    "    img_size = 512\n",
    "    batch_size = 12\n",
    "    seed = 2020\n",
    "    \n",
    "    device = 'cuda'\n",
    "    classes = 11014\n",
    "    \n",
    "    scale = 30 \n",
    "    margin = 0.5"
   ]
  },
  {
   "cell_type": "code",
   "execution_count": 3,
   "id": "f3c56392",
   "metadata": {
    "execution": {
     "iopub.execute_input": "2021-04-17T03:46:33.290054Z",
     "iopub.status.busy": "2021-04-17T03:46:33.289314Z",
     "iopub.status.idle": "2021-04-17T03:46:33.292060Z",
     "shell.execute_reply": "2021-04-17T03:46:33.291634Z"
    },
    "executionInfo": {
     "elapsed": 1498,
     "status": "ok",
     "timestamp": 1618284181530,
     "user": {
      "displayName": "ken yos",
      "photoUrl": "https://lh3.googleusercontent.com/a-/AOh14GjzkUCd50LH48gEiHcGcv_ANhcMmDlPTC9WRUfMZvs=s64",
      "userId": "17097843443677736067"
     },
     "user_tz": -540
    },
    "id": "TpxznYwt6m6x",
    "papermill": {
     "duration": 0.022762,
     "end_time": "2021-04-17T03:46:33.292167",
     "exception": false,
     "start_time": "2021-04-17T03:46:33.269405",
     "status": "completed"
    },
    "tags": []
   },
   "outputs": [],
   "source": [
    "DIM = (512,512)\n",
    "\n",
    "NUM_WORKERS = 8\n",
    "TRAIN_BATCH_SIZE = 16\n",
    "VALID_BATCH_SIZE = 12\n",
    "EPOCHS = 20\n",
    "SEED = 2020\n",
    "\n",
    "device = torch.device('cuda')\n",
    "\n",
    "#model_name = 'efficientnet_b3' #efficientnet_b0-b7\n",
    "num_ch = 512"
   ]
  },
  {
   "cell_type": "markdown",
   "id": "ccd28bbf",
   "metadata": {
    "id": "h6j6faVE6m6y",
    "papermill": {
     "duration": 0.015091,
     "end_time": "2021-04-17T03:46:33.321854",
     "exception": false,
     "start_time": "2021-04-17T03:46:33.306763",
     "status": "completed"
    },
    "tags": []
   },
   "source": [
    "# Utils"
   ]
  },
  {
   "cell_type": "code",
   "execution_count": 4,
   "id": "8f593a96",
   "metadata": {
    "execution": {
     "iopub.execute_input": "2021-04-17T03:46:33.356132Z",
     "iopub.status.busy": "2021-04-17T03:46:33.355469Z",
     "iopub.status.idle": "2021-04-17T03:46:33.360725Z",
     "shell.execute_reply": "2021-04-17T03:46:33.360275Z"
    },
    "executionInfo": {
     "elapsed": 1428,
     "status": "ok",
     "timestamp": 1618284181530,
     "user": {
      "displayName": "ken yos",
      "photoUrl": "https://lh3.googleusercontent.com/a-/AOh14GjzkUCd50LH48gEiHcGcv_ANhcMmDlPTC9WRUfMZvs=s64",
      "userId": "17097843443677736067"
     },
     "user_tz": -540
    },
    "id": "pPVIzOSj6m6y",
    "papermill": {
     "duration": 0.02425,
     "end_time": "2021-04-17T03:46:33.360838",
     "exception": false,
     "start_time": "2021-04-17T03:46:33.336588",
     "status": "completed"
    },
    "tags": []
   },
   "outputs": [],
   "source": [
    "def seed_torch(seed=2020):\n",
    "    random.seed(seed)\n",
    "    os.environ['PYTHONHASHSEED'] = str(seed)\n",
    "    np.random.seed(seed)\n",
    "    torch.manual_seed(seed)\n",
    "    torch.cuda.manual_seed(seed)\n",
    "    torch.backends.cudnn.deterministic = True\n",
    "    \n",
    "seed_torch(SEED)"
   ]
  },
  {
   "cell_type": "code",
   "execution_count": 5,
   "id": "9ebdcb43",
   "metadata": {
    "execution": {
     "iopub.execute_input": "2021-04-17T03:46:33.394194Z",
     "iopub.status.busy": "2021-04-17T03:46:33.393534Z",
     "iopub.status.idle": "2021-04-17T03:46:33.396410Z",
     "shell.execute_reply": "2021-04-17T03:46:33.396019Z"
    },
    "executionInfo": {
     "elapsed": 1265,
     "status": "ok",
     "timestamp": 1618284181532,
     "user": {
      "displayName": "ken yos",
      "photoUrl": "https://lh3.googleusercontent.com/a-/AOh14GjzkUCd50LH48gEiHcGcv_ANhcMmDlPTC9WRUfMZvs=s64",
      "userId": "17097843443677736067"
     },
     "user_tz": -540
    },
    "id": "7LFkhlOs6m60",
    "papermill": {
     "duration": 0.021156,
     "end_time": "2021-04-17T03:46:33.396508",
     "exception": false,
     "start_time": "2021-04-17T03:46:33.375352",
     "status": "completed"
    },
    "tags": []
   },
   "outputs": [],
   "source": [
    "def get_valid_transforms():\n",
    "\n",
    "    return albumentations.Compose(\n",
    "        [\n",
    "            albumentations.Resize(DIM[0],DIM[1],always_apply=True),\n",
    "            albumentations.Normalize(),\n",
    "        ToTensorV2(p=1.0)\n",
    "        ]\n",
    "    )"
   ]
  },
  {
   "cell_type": "markdown",
   "id": "95785d8e",
   "metadata": {
    "id": "N67D9Kcx6m60",
    "papermill": {
     "duration": 0.01455,
     "end_time": "2021-04-17T03:46:33.425774",
     "exception": false,
     "start_time": "2021-04-17T03:46:33.411224",
     "status": "completed"
    },
    "tags": []
   },
   "source": [
    "# Dataset"
   ]
  },
  {
   "cell_type": "code",
   "execution_count": 6,
   "id": "0655c019",
   "metadata": {
    "execution": {
     "iopub.execute_input": "2021-04-17T03:46:33.461784Z",
     "iopub.status.busy": "2021-04-17T03:46:33.461082Z",
     "iopub.status.idle": "2021-04-17T03:46:33.463791Z",
     "shell.execute_reply": "2021-04-17T03:46:33.463381Z"
    },
    "executionInfo": {
     "elapsed": 1198,
     "status": "ok",
     "timestamp": 1618284181532,
     "user": {
      "displayName": "ken yos",
      "photoUrl": "https://lh3.googleusercontent.com/a-/AOh14GjzkUCd50LH48gEiHcGcv_ANhcMmDlPTC9WRUfMZvs=s64",
      "userId": "17097843443677736067"
     },
     "user_tz": -540
    },
    "id": "JvEpDay86m60",
    "papermill": {
     "duration": 0.023231,
     "end_time": "2021-04-17T03:46:33.463892",
     "exception": false,
     "start_time": "2021-04-17T03:46:33.440661",
     "status": "completed"
    },
    "tags": []
   },
   "outputs": [],
   "source": [
    "class ShopeeDataset(Dataset):\n",
    "    def __init__(self, csv, transforms=None):\n",
    "\n",
    "        self.csv = csv.reset_index()\n",
    "        self.augmentations = transforms\n",
    "\n",
    "    def __len__(self):\n",
    "        return self.csv.shape[0]\n",
    "\n",
    "    def __getitem__(self, index):\n",
    "        row = self.csv.iloc[index]\n",
    "        \n",
    "        text = row.title\n",
    "        \n",
    "        image = cv2.imread(row.filepath)\n",
    "        image = cv2.cvtColor(image, cv2.COLOR_BGR2RGB)\n",
    "        \n",
    "        if self.augmentations:\n",
    "            augmented = self.augmentations(image=image)\n",
    "            image = augmented['image']       \n",
    "        \n",
    "        \n",
    "        return image,torch.tensor(row.label_group)"
   ]
  },
  {
   "cell_type": "code",
   "execution_count": 7,
   "id": "eca2d657",
   "metadata": {},
   "outputs": [],
   "source": [
    "class Mish_func(torch.autograd.Function):\n",
    "    \n",
    "    \"\"\"from: https://github.com/tyunist/memory_efficient_mish_swish/blob/master/mish.py\"\"\"\n",
    "    \n",
    "    @staticmethod\n",
    "    def forward(ctx, i):\n",
    "        result = i * torch.tanh(F.softplus(i))\n",
    "        ctx.save_for_backward(i)\n",
    "        return result\n",
    "\n",
    "    @staticmethod\n",
    "    def backward(ctx, grad_output):\n",
    "        i = ctx.saved_variables[0]\n",
    "  \n",
    "        v = 1. + i.exp()\n",
    "        h = v.log() \n",
    "        grad_gh = 1./h.cosh().pow_(2) \n",
    "\n",
    "        # Note that grad_hv * grad_vx = sigmoid(x)\n",
    "        #grad_hv = 1./v  \n",
    "        #grad_vx = i.exp()\n",
    "        \n",
    "        grad_hx = i.sigmoid()\n",
    "\n",
    "        grad_gx = grad_gh *  grad_hx #grad_hv * grad_vx \n",
    "        \n",
    "        grad_f =  torch.tanh(F.softplus(i)) + i * grad_gx \n",
    "        \n",
    "        return grad_output * grad_f \n",
    "\n",
    "\n",
    "class Mish(nn.Module):\n",
    "    def __init__(self, **kwargs):\n",
    "        super().__init__()\n",
    "        pass\n",
    "    def forward(self, input_tensor):\n",
    "        return Mish_func.apply(input_tensor)\n",
    "\n",
    "\n",
    "def replace_activations(model, existing_layer, new_layer):\n",
    "    \n",
    "    \"\"\"A function for replacing existing activation layers\"\"\"\n",
    "    \n",
    "    for name, module in reversed(model._modules.items()):\n",
    "        if len(list(module.children())) > 0:\n",
    "            model._modules[name] = replace_activations(module, existing_layer, new_layer)\n",
    "\n",
    "        if type(module) == existing_layer:\n",
    "            layer_old = module\n",
    "            layer_new = new_layer\n",
    "            model._modules[name] = layer_new\n",
    "    return model"
   ]
  },
  {
   "cell_type": "code",
   "execution_count": 8,
   "id": "584979ec",
   "metadata": {},
   "outputs": [],
   "source": [
    "from functools import reduce\n",
    "\n",
    "def intersect(*args):\n",
    "    return reduce(np.intersect1d, args)\n",
    "\n",
    "def concat(*args):\n",
    "    return np.unique(np.concatenate(args))\n",
    "\n",
    "def higher(f,*args):\n",
    "    res = {}\n",
    "    keys = np.unique(np.concatenate(args))\n",
    "    for k in keys: \n",
    "        res[k] = np.count_nonzero(np.concatenate(args) == k)\n",
    "    output_dict = dict(filter(lambda item: item[1] >= f, res.items()))\n",
    "    \n",
    "    return np.array(list(output_dict.keys()))\n",
    "\n",
    "def count(*args):\n",
    "    res = {}\n",
    "    keys = np.unique(np.concatenate(args))\n",
    "    for k in keys: \n",
    "        res[k] = np.count_nonzero(np.concatenate(args) == k)\n",
    "    return res"
   ]
  },
  {
   "cell_type": "code",
   "execution_count": 9,
   "id": "db07f0e2",
   "metadata": {},
   "outputs": [],
   "source": [
    "class GeM(nn.Module):\n",
    "    def __init__(self, p=3, eps=1e-6):\n",
    "        super(GeM,self).__init__()\n",
    "        self.p = nn.Parameter(torch.ones(1)*p)\n",
    "        self.eps = eps\n",
    "\n",
    "    def forward(self, x):\n",
    "        return self.gem(x, p=self.p, eps=self.eps)\n",
    "        \n",
    "    def gem(self, x, p=3, eps=1e-6):\n",
    "        return F.avg_pool2d(x.clamp(min=eps).pow(p), (x.size(-2), x.size(-1))).pow(1./p)\n",
    "        \n",
    "    def __repr__(self):\n",
    "        return self.__class__.__name__ + '(' + 'p=' + '{:.4f}'.format(self.p.data.tolist()[0]) + ', ' + 'eps=' + str(self.eps) + ')'"
   ]
  },
  {
   "cell_type": "markdown",
   "id": "7cc8c726",
   "metadata": {
    "id": "laWVQJqE6m60",
    "papermill": {
     "duration": 0.01469,
     "end_time": "2021-04-17T03:46:33.493309",
     "exception": false,
     "start_time": "2021-04-17T03:46:33.478619",
     "status": "completed"
    },
    "tags": []
   },
   "source": [
    "# Model"
   ]
  },
  {
   "cell_type": "code",
   "execution_count": 10,
   "id": "8aacd4ec",
   "metadata": {},
   "outputs": [],
   "source": [
    "'''\n",
    "credit : https://github.com/HuangYG123/CurricularFace/blob/8b2f47318117995aa05490c05b455b113489917e/head/metrics.py#L70\n",
    "'''\n",
    "\n",
    "def l2_norm(input, axis = 1):\n",
    "    norm = torch.norm(input, 2, axis, True)\n",
    "    output = torch.div(input, norm)\n",
    "\n",
    "    return output\n",
    "\n",
    "class CurricularFace(nn.Module):\n",
    "    def __init__(self, in_features, out_features, s = 30, m = 0.50):\n",
    "        super(CurricularFace, self).__init__()\n",
    "\n",
    "        print('Using Curricular Face')\n",
    "\n",
    "        self.in_features = in_features\n",
    "        self.out_features = out_features\n",
    "        self.m = m\n",
    "        self.s = s\n",
    "        self.cos_m = math.cos(m)\n",
    "        self.sin_m = math.sin(m)\n",
    "        self.threshold = math.cos(math.pi - m)\n",
    "        self.mm = math.sin(math.pi - m) * m\n",
    "        self.kernel = nn.Parameter(torch.Tensor(in_features, out_features))\n",
    "        self.register_buffer('t', torch.zeros(1))\n",
    "        nn.init.normal_(self.kernel, std=0.01)\n",
    "\n",
    "    def forward(self, embbedings, label):\n",
    "        embbedings = l2_norm(embbedings, axis = 1)\n",
    "        kernel_norm = l2_norm(self.kernel, axis = 0)\n",
    "        cos_theta = torch.mm(embbedings, kernel_norm)\n",
    "        cos_theta = cos_theta.clamp(-1, 1)  # for numerical stability\n",
    "        with torch.no_grad():\n",
    "            origin_cos = cos_theta.clone()\n",
    "        target_logit = cos_theta[torch.arange(0, embbedings.size(0)), label].view(-1, 1)\n",
    "\n",
    "        sin_theta = torch.sqrt(1.0 - torch.pow(target_logit, 2))\n",
    "        cos_theta_m = target_logit * self.cos_m - sin_theta * self.sin_m #cos(target+margin)\n",
    "        mask = cos_theta > cos_theta_m\n",
    "        final_target_logit = torch.where(target_logit > self.threshold, cos_theta_m, target_logit - self.mm)\n",
    "\n",
    "        hard_example = cos_theta[mask]\n",
    "        with torch.no_grad():\n",
    "            self.t = target_logit.mean() * 0.01 + (1 - 0.01) * self.t\n",
    "        cos_theta[mask] = hard_example * (self.t + hard_example)\n",
    "        cos_theta.scatter_(1, label.view(-1, 1).long(), final_target_logit)\n",
    "        output = cos_theta * self.s\n",
    "        return output, nn.CrossEntropyLoss()(output,label)"
   ]
  },
  {
   "cell_type": "code",
   "execution_count": 11,
   "id": "59008991",
   "metadata": {},
   "outputs": [],
   "source": [
    "class ArcMarginProduct(nn.Module):\n",
    "    def __init__(self, in_features, out_features, scale=30.0, margin=0.50, easy_margin=False, ls_eps=0.0):\n",
    "        super(ArcMarginProduct, self).__init__()\n",
    "        self.in_features = in_features\n",
    "        self.out_features = out_features\n",
    "        self.scale = scale\n",
    "        self.margin = margin\n",
    "        self.ls_eps = ls_eps  # label smoothing\n",
    "        self.weight = nn.Parameter(torch.FloatTensor(out_features, in_features))\n",
    "        nn.init.xavier_uniform_(self.weight)\n",
    "\n",
    "        self.easy_margin = easy_margin\n",
    "        self.cos_m = math.cos(margin)\n",
    "        self.sin_m = math.sin(margin)\n",
    "        self.th = math.cos(math.pi - margin)\n",
    "        self.mm = math.sin(math.pi - margin) * margin\n",
    "\n",
    "    def forward(self, input, label):\n",
    "        # --------------------------- cos(theta) & phi(theta) ---------------------------\n",
    "        cosine = F.linear(F.normalize(input), F.normalize(self.weight))\n",
    "        sine = torch.sqrt(1.0 - torch.pow(cosine, 2))\n",
    "        phi = cosine * self.cos_m - sine * self.sin_m\n",
    "        if self.easy_margin:\n",
    "            phi = torch.where(cosine > 0, phi, cosine)\n",
    "        else:\n",
    "            phi = torch.where(cosine > self.th, phi, cosine - self.mm)\n",
    "        # --------------------------- convert label to one-hot ---------------------------\n",
    "        # one_hot = torch.zeros(cosine.size(), requires_grad=True, device='cuda')\n",
    "        one_hot = torch.zeros(cosine.size(), device='cuda')\n",
    "        one_hot.scatter_(1, label.view(-1, 1).long(), 1)\n",
    "        if self.ls_eps > 0:\n",
    "            one_hot = (1 - self.ls_eps) * one_hot + self.ls_eps / self.out_features\n",
    "        # -------------torch.where(out_i = {x_i if condition_i else y_i) -------------\n",
    "        output = (one_hot * phi) + ((1.0 - one_hot) * cosine)\n",
    "        output *= self.scale\n",
    "\n",
    "        return output\n",
    "\n",
    "class ShopeeModel(nn.Module):\n",
    "\n",
    "    def __init__(\n",
    "        self,\n",
    "        n_classes = CFG.classes,\n",
    "        model_name = None,\n",
    "        fc_dim = 512,\n",
    "        margin = CFG.margin,\n",
    "        scale = CFG.scale,\n",
    "        use_fc = True,\n",
    "        pretrained = False):\n",
    "\n",
    "\n",
    "        super(ShopeeModel,self).__init__()\n",
    "        print('Building Model Backbone for {} model'.format(model_name))\n",
    "\n",
    "        self.backbone = timm.create_model(model_name, pretrained=pretrained)\n",
    "\n",
    "        if model_name == 'resnest101e':\n",
    "            final_in_features = self.backbone.fc.in_features\n",
    "            self.backbone.fc = nn.Identity()\n",
    "            self.backbone.global_pool = nn.Identity()\n",
    "\n",
    "        elif 'efficientnet' in model_name:\n",
    "            final_in_features = self.backbone.classifier.in_features\n",
    "            self.backbone.classifier = nn.Identity()\n",
    "            self.backbone.global_pool = nn.Identity()\n",
    "        \n",
    "        elif model_name == 'eca_nfnet_l0':\n",
    "            final_in_features = self.backbone.head.fc.in_features\n",
    "            self.backbone.head.fc = nn.Identity()\n",
    "            self.backbone.head.global_pool = nn.Identity()\n",
    "\n",
    "        self.pooling = GeM()\n",
    "\n",
    "        self.use_fc = use_fc\n",
    "\n",
    "        self.dropout = nn.Dropout(p=0.0)\n",
    "        self.fc = nn.Linear(final_in_features, fc_dim)\n",
    "        self.bn = nn.BatchNorm1d(fc_dim)\n",
    "        self._init_params()\n",
    "        final_in_features = fc_dim\n",
    "\n",
    "        self.final = CurricularFace(\n",
    "            final_in_features,\n",
    "            n_classes,\n",
    "            s = scale,\n",
    "            m = margin\n",
    "        )\n",
    "\n",
    "    def _init_params(self):\n",
    "        nn.init.xavier_normal_(self.fc.weight)\n",
    "        nn.init.constant_(self.fc.bias, 0)\n",
    "        nn.init.constant_(self.bn.weight, 1)\n",
    "        nn.init.constant_(self.bn.bias, 0)\n",
    "\n",
    "    def forward(self, image, label):\n",
    "        feature = self.extract_feat(image)\n",
    "        #logits = self.final(feature,label)\n",
    "        return feature\n",
    "\n",
    "    def extract_feat(self, x):\n",
    "        batch_size = x.shape[0]\n",
    "        x = self.backbone(x)\n",
    "        x = self.pooling(x).view(batch_size, -1)\n",
    "\n",
    "        if self.use_fc:\n",
    "            x = self.dropout(x)\n",
    "            x = self.fc(x)\n",
    "            x = self.bn(x)\n",
    "        return x"
   ]
  },
  {
   "cell_type": "code",
   "execution_count": 12,
   "id": "da7ed33d",
   "metadata": {},
   "outputs": [],
   "source": [
    "def get_model(model_name = None, model_path = None, n_classes = None):\n",
    "    \n",
    "    model = ShopeeModel(model_name = model_name)\n",
    "    if model_name == 'eca_nfnet_l0'or 'tf_efficientnet_b5':\n",
    "        model = replace_activations(model, torch.nn.SiLU, Mish())\n",
    "    elif model_name == 'resnest101e':\n",
    "        model = replace_activations(model, torch.nn.ReLU, Mish())\n",
    "    model.eval()\n",
    "    model.load_state_dict(torch.load(model_path))\n",
    "    model = model.to(CFG.device)\n",
    "    \n",
    "    return model "
   ]
  },
  {
   "cell_type": "code",
   "execution_count": 13,
   "id": "b3ab3476",
   "metadata": {},
   "outputs": [],
   "source": [
    "class EnsembleModel(nn.Module):\n",
    "    \n",
    "    def __init__(self):\n",
    "        super(EnsembleModel,self).__init__()\n",
    "        \n",
    "        self.m1 = get_model('eca_nfnet_l0','weight/cface_512x512_nfnet_l0(mish)_gem_20.pt')\n",
    "        self.m2 = get_model('resnest101e','weight/cface_512x512_resnest(mish)_gem.pt')\n",
    "        self.m3 = get_model('tf_efficientnet_b5','weight/cface_512x512_effb5(mish)_gem.pt')\n",
    "        \n",
    "    def forward(self,img,label):\n",
    "        \n",
    "        feat1 = self.m1(img,label)#.cpu().detach().numpy() \n",
    "        feat2 = self.m2(img,label)#.cpu().detach().numpy() \n",
    "        feat3 = self.m3(img,label)#.cpu().detach().numpy() \n",
    "        \n",
    "        return feat1,feat2,feat3"
   ]
  },
  {
   "cell_type": "markdown",
   "id": "66c232b1",
   "metadata": {
    "id": "A7KTKtP_6m66",
    "papermill": {
     "duration": 0.014803,
     "end_time": "2021-04-17T03:46:33.561413",
     "exception": false,
     "start_time": "2021-04-17T03:46:33.546610",
     "status": "completed"
    },
    "tags": []
   },
   "source": [
    "# Get embeddings"
   ]
  },
  {
   "cell_type": "code",
   "execution_count": 14,
   "id": "1cabc9b8",
   "metadata": {
    "execution": {
     "iopub.execute_input": "2021-04-17T03:46:33.597840Z",
     "iopub.status.busy": "2021-04-17T03:46:33.597122Z",
     "iopub.status.idle": "2021-04-17T03:46:33.599318Z",
     "shell.execute_reply": "2021-04-17T03:46:33.599851Z"
    },
    "executionInfo": {
     "elapsed": 651,
     "status": "ok",
     "timestamp": 1618284186600,
     "user": {
      "displayName": "ken yos",
      "photoUrl": "https://lh3.googleusercontent.com/a-/AOh14GjzkUCd50LH48gEiHcGcv_ANhcMmDlPTC9WRUfMZvs=s64",
      "userId": "17097843443677736067"
     },
     "user_tz": -540
    },
    "id": "BhrkuNDL6m66",
    "papermill": {
     "duration": 0.023612,
     "end_time": "2021-04-17T03:46:33.599979",
     "exception": false,
     "start_time": "2021-04-17T03:46:33.576367",
     "status": "completed"
    },
    "tags": []
   },
   "outputs": [],
   "source": [
    "def get_img_emb(data_loader,model,criterion,device):\n",
    "    model.eval()\n",
    "    tk0 = tqdm(enumerate(data_loader), total=len(data_loader))\n",
    "    outs = np.zeros([len(valid), num_ch])\n",
    "    with torch.no_grad():      \n",
    "        for i,(bi,d) in enumerate(tk0):\n",
    "            batch_size = d[0].size()[0]\n",
    "\n",
    "            image = d[0]\n",
    "            targets = d[1]\n",
    "\n",
    "            image = image.to(device)\n",
    "            targets = targets.to(device)\n",
    "            # Inference\n",
    "            output = model(image, targets)\n",
    "            outs[i*batch_size:i*batch_size+batch_size] = output.cpu().detach().numpy()      \n",
    "    return outs"
   ]
  },
  {
   "cell_type": "markdown",
   "id": "24155b00",
   "metadata": {
    "papermill": {
     "duration": 0.014985,
     "end_time": "2021-04-17T03:46:33.629925",
     "exception": false,
     "start_time": "2021-04-17T03:46:33.614940",
     "status": "completed"
    },
    "tags": []
   },
   "source": [
    "# Setup dataloader"
   ]
  },
  {
   "cell_type": "code",
   "execution_count": 15,
   "id": "78a6f396",
   "metadata": {
    "execution": {
     "iopub.execute_input": "2021-04-17T03:46:33.665148Z",
     "iopub.status.busy": "2021-04-17T03:46:33.664539Z",
     "iopub.status.idle": "2021-04-17T03:46:33.995473Z",
     "shell.execute_reply": "2021-04-17T03:46:33.994537Z"
    },
    "papermill": {
     "duration": 0.350661,
     "end_time": "2021-04-17T03:46:33.995621",
     "exception": false,
     "start_time": "2021-04-17T03:46:33.644960",
     "status": "completed"
    },
    "tags": []
   },
   "outputs": [
    {
     "data": {
      "text/plain": [
       "34250"
      ]
     },
     "execution_count": 15,
     "metadata": {},
     "output_type": "execute_result"
    }
   ],
   "source": [
    "from sklearn.model_selection import GroupKFold\n",
    "df_train = pd.read_csv(\"input/train_st_fold42.csv\")\n",
    "skf = GroupKFold(5)\n",
    "df_train['fold'] = -1\n",
    "for i, (train_idx, valid_idx) in enumerate(skf.split(X=df_train, groups=df_train['label_group'])):\n",
    "    df_train.loc[valid_idx, 'fold'] = i\n",
    "train_df = df_train\n",
    "df_train.tail()\n",
    "\n",
    "data = df_train\n",
    "data['filepath'] = data['image'].apply(lambda x: os.path.join('input/train_images', x))\n",
    "len(data)"
   ]
  },
  {
   "cell_type": "code",
   "execution_count": 16,
   "id": "b3fd0a70",
   "metadata": {
    "execution": {
     "iopub.execute_input": "2021-04-17T03:46:34.032323Z",
     "iopub.status.busy": "2021-04-17T03:46:34.031680Z",
     "iopub.status.idle": "2021-04-17T03:46:34.058788Z",
     "shell.execute_reply": "2021-04-17T03:46:34.058342Z"
    },
    "papermill": {
     "duration": 0.047165,
     "end_time": "2021-04-17T03:46:34.058906",
     "exception": false,
     "start_time": "2021-04-17T03:46:34.011741",
     "status": "completed"
    },
    "tags": []
   },
   "outputs": [],
   "source": [
    "fold = 0\n",
    "train = data[data['fold']!=fold].reset_index(drop=True)\n",
    "valid = data[data['fold']==fold].reset_index(drop=True)"
   ]
  },
  {
   "cell_type": "code",
   "execution_count": 17,
   "id": "de49f643",
   "metadata": {
    "execution": {
     "iopub.execute_input": "2021-04-17T03:46:34.096061Z",
     "iopub.status.busy": "2021-04-17T03:46:34.095379Z",
     "iopub.status.idle": "2021-04-17T03:46:34.099133Z",
     "shell.execute_reply": "2021-04-17T03:46:34.098726Z"
    },
    "papermill": {
     "duration": 0.024583,
     "end_time": "2021-04-17T03:46:34.099240",
     "exception": false,
     "start_time": "2021-04-17T03:46:34.074657",
     "status": "completed"
    },
    "tags": []
   },
   "outputs": [],
   "source": [
    "valid_dataset = ShopeeDataset(\n",
    "    csv=valid[:100],\n",
    "    transforms=get_valid_transforms(),\n",
    ")\n",
    "\n",
    "valid_loader = torch.utils.data.DataLoader(\n",
    "    valid_dataset,\n",
    "    batch_size=VALID_BATCH_SIZE,\n",
    "    num_workers=NUM_WORKERS,\n",
    "    shuffle=False,\n",
    "    pin_memory=True,\n",
    "    drop_last=False,\n",
    ")"
   ]
  },
  {
   "cell_type": "code",
   "execution_count": 18,
   "id": "4cbd9064",
   "metadata": {
    "execution": {
     "iopub.execute_input": "2021-04-17T03:46:34.135740Z",
     "iopub.status.busy": "2021-04-17T03:46:34.135200Z",
     "iopub.status.idle": "2021-04-17T03:46:39.339065Z",
     "shell.execute_reply": "2021-04-17T03:46:39.338078Z"
    },
    "papermill": {
     "duration": 5.224293,
     "end_time": "2021-04-17T03:46:39.339210",
     "exception": false,
     "start_time": "2021-04-17T03:46:34.114917",
     "status": "completed"
    },
    "tags": []
   },
   "outputs": [
    {
     "name": "stdout",
     "output_type": "stream",
     "text": [
      "Building Model Backbone for eca_nfnet_l0 model\n",
      "Using Curricular Face\n",
      "Building Model Backbone for resnest101e model\n",
      "Using Curricular Face\n",
      "Building Model Backbone for tf_efficientnet_b5 model\n",
      "Using Curricular Face\n"
     ]
    }
   ],
   "source": [
    "# Defining Device\n",
    "device = torch.device(\"cuda\")\n",
    "\n",
    "# Defining Model for specific fold\n",
    "model = EnsembleModel()\n",
    "model = model.to(device)"
   ]
  },
  {
   "cell_type": "code",
   "execution_count": 19,
   "id": "d51ce33b",
   "metadata": {
    "execution": {
     "iopub.execute_input": "2021-04-17T03:46:39.385329Z",
     "iopub.status.busy": "2021-04-17T03:46:39.383539Z",
     "iopub.status.idle": "2021-04-17T03:46:39.385976Z",
     "shell.execute_reply": "2021-04-17T03:46:39.386374Z"
    },
    "papermill": {
     "duration": 0.030377,
     "end_time": "2021-04-17T03:46:39.386494",
     "exception": false,
     "start_time": "2021-04-17T03:46:39.356117",
     "status": "completed"
    },
    "tags": []
   },
   "outputs": [],
   "source": [
    "def getMetric(col):\n",
    "    def f1score(row):\n",
    "        n = len( np.intersect1d(row.target,row[col]) )\n",
    "        return 2*n / (len(row.target)+len(row[col]))\n",
    "    return f1score\n",
    "\n",
    "from sklearn.preprocessing import normalize\n",
    "import gc\n",
    "\n",
    "def get_cv(df, outs):\n",
    "    thresholds = list(np.arange(0.2, 0.8, 0.1))\n",
    "    scores = []\n",
    "    \n",
    "    # set target\n",
    "    tmp = df.groupby('label_group').posting_id.agg('unique').to_dict()\n",
    "    df['target'] = df.label_group.map(tmp)\n",
    "\n",
    "    # Normalize\n",
    "    outsn = normalize(outs)\n",
    "\n",
    "    # to torch\n",
    "    outsn_torch = torch.from_numpy(outsn).cuda()\n",
    "    \n",
    "    # calculate cosine simularity with torch cuda()\n",
    "    distances = 1 - torch.matmul(outsn_torch, outsn_torch.T).cpu().T\n",
    "    \n",
    "    for threshold in thresholds:\n",
    "        predictions = []\n",
    "        for k in range(outs.shape[0]):\n",
    "            idx = np.where(distances[k,] < threshold)[0]\n",
    "            o = df.iloc[idx].posting_id.values\n",
    "            predictions.append(o)\n",
    "        print(np.array(predictions))\n",
    "        df[\"preds\"] = predictions\n",
    "        #df['oof'] = df.apply(combine_for_cv,axis=1)\n",
    "        df['f1'] = df.apply(getMetric(\"preds\"),axis=1)\n",
    "        score = df['f1'].mean()\n",
    "        print(f'Our f1 score for threshold {threshold} is {score}')\n",
    "        scores.append(score)\n",
    "    thresholds_scores = pd.DataFrame({'thresholds': thresholds, 'scores': scores})\n",
    "    max_score = thresholds_scores[thresholds_scores['scores'] == thresholds_scores['scores'].max()]\n",
    "    best_threshold = max_score['thresholds'].values[0]\n",
    "    best_score = max_score['scores'].values[0]\n",
    "    print(f'Our best score is {best_score} and has a threshold {best_threshold}')\n",
    "    gc.collect()\n",
    "    torch.cuda.empty_cache()\n",
    "\n",
    "    return best_score"
   ]
  },
  {
   "cell_type": "code",
   "execution_count": 20,
   "id": "e1094234",
   "metadata": {},
   "outputs": [
    {
     "name": "stderr",
     "output_type": "stream",
     "text": [
      "  0%|          | 0/9 [00:01<?, ?it/s]\n"
     ]
    },
    {
     "ename": "AttributeError",
     "evalue": "'tuple' object has no attribute 'cpu'",
     "output_type": "error",
     "traceback": [
      "\u001b[0;31m---------------------------------------------------------------------------\u001b[0m",
      "\u001b[0;31mAttributeError\u001b[0m                            Traceback (most recent call last)",
      "\u001b[0;32m<ipython-input-20-d397db2be74c>\u001b[0m in \u001b[0;36m<module>\u001b[0;34m\u001b[0m\n\u001b[1;32m      1\u001b[0m \u001b[0;31m# get embeddings\u001b[0m\u001b[0;34m\u001b[0m\u001b[0;34m\u001b[0m\u001b[0;34m\u001b[0m\u001b[0m\n\u001b[0;32m----> 2\u001b[0;31m \u001b[0mouts\u001b[0m \u001b[0;34m=\u001b[0m \u001b[0mget_img_emb\u001b[0m\u001b[0;34m(\u001b[0m\u001b[0mvalid_loader\u001b[0m\u001b[0;34m,\u001b[0m\u001b[0mmodel\u001b[0m\u001b[0;34m,\u001b[0m\u001b[0;32mNone\u001b[0m\u001b[0;34m,\u001b[0m\u001b[0mdevice\u001b[0m\u001b[0;34m)\u001b[0m\u001b[0;34m\u001b[0m\u001b[0;34m\u001b[0m\u001b[0m\n\u001b[0m\u001b[1;32m      3\u001b[0m \u001b[0;34m\u001b[0m\u001b[0m\n\u001b[1;32m      4\u001b[0m \u001b[0;31m# calculate CV\u001b[0m\u001b[0;34m\u001b[0m\u001b[0;34m\u001b[0m\u001b[0;34m\u001b[0m\u001b[0m\n\u001b[1;32m      5\u001b[0m \u001b[0mbest\u001b[0m \u001b[0;34m=\u001b[0m \u001b[0mget_cv\u001b[0m\u001b[0;34m(\u001b[0m\u001b[0mvalid\u001b[0m\u001b[0;34m,\u001b[0m \u001b[0mouts\u001b[0m\u001b[0;34m)\u001b[0m\u001b[0;34m\u001b[0m\u001b[0;34m\u001b[0m\u001b[0m\n",
      "\u001b[0;32m<ipython-input-14-56a46133fff1>\u001b[0m in \u001b[0;36mget_img_emb\u001b[0;34m(data_loader, model, criterion, device)\u001b[0m\n\u001b[1;32m     14\u001b[0m             \u001b[0;31m# Inference\u001b[0m\u001b[0;34m\u001b[0m\u001b[0;34m\u001b[0m\u001b[0;34m\u001b[0m\u001b[0m\n\u001b[1;32m     15\u001b[0m             \u001b[0moutput\u001b[0m \u001b[0;34m=\u001b[0m \u001b[0mmodel\u001b[0m\u001b[0;34m(\u001b[0m\u001b[0mimage\u001b[0m\u001b[0;34m,\u001b[0m \u001b[0mtargets\u001b[0m\u001b[0;34m)\u001b[0m\u001b[0;34m\u001b[0m\u001b[0;34m\u001b[0m\u001b[0m\n\u001b[0;32m---> 16\u001b[0;31m             \u001b[0mouts\u001b[0m\u001b[0;34m[\u001b[0m\u001b[0mi\u001b[0m\u001b[0;34m*\u001b[0m\u001b[0mbatch_size\u001b[0m\u001b[0;34m:\u001b[0m\u001b[0mi\u001b[0m\u001b[0;34m*\u001b[0m\u001b[0mbatch_size\u001b[0m\u001b[0;34m+\u001b[0m\u001b[0mbatch_size\u001b[0m\u001b[0;34m]\u001b[0m \u001b[0;34m=\u001b[0m \u001b[0moutput\u001b[0m\u001b[0;34m.\u001b[0m\u001b[0mcpu\u001b[0m\u001b[0;34m(\u001b[0m\u001b[0;34m)\u001b[0m\u001b[0;34m.\u001b[0m\u001b[0mdetach\u001b[0m\u001b[0;34m(\u001b[0m\u001b[0;34m)\u001b[0m\u001b[0;34m.\u001b[0m\u001b[0mnumpy\u001b[0m\u001b[0;34m(\u001b[0m\u001b[0;34m)\u001b[0m\u001b[0;34m\u001b[0m\u001b[0;34m\u001b[0m\u001b[0m\n\u001b[0m\u001b[1;32m     17\u001b[0m     \u001b[0;32mreturn\u001b[0m \u001b[0mouts\u001b[0m\u001b[0;34m\u001b[0m\u001b[0;34m\u001b[0m\u001b[0m\n",
      "\u001b[0;31mAttributeError\u001b[0m: 'tuple' object has no attribute 'cpu'"
     ]
    }
   ],
   "source": [
    "# get embeddings\n",
    "outs = get_img_emb(valid_loader,model,None,device)\n",
    "\n",
    "# calculate CV\n",
    "best = get_cv(valid, outs)"
   ]
  },
  {
   "cell_type": "markdown",
   "id": "9dbbe04e",
   "metadata": {
    "papermill": {
     "duration": 0.016277,
     "end_time": "2021-04-17T03:46:39.419479",
     "exception": false,
     "start_time": "2021-04-17T03:46:39.403202",
     "status": "completed"
    },
    "tags": []
   },
   "source": [
    "# Run CV"
   ]
  },
  {
   "cell_type": "code",
   "execution_count": null,
   "id": "d8b274ae",
   "metadata": {
    "papermill": {
     "duration": 0.126662,
     "end_time": "2021-04-17T03:49:38.896860",
     "exception": false,
     "start_time": "2021-04-17T03:49:38.770198",
     "status": "completed"
    },
    "tags": []
   },
   "outputs": [],
   "source": []
  }
 ],
 "metadata": {
  "environment": {
   "name": "pytorch-gpu.1-8.m65",
   "type": "gcloud",
   "uri": "gcr.io/deeplearning-platform-release/pytorch-gpu.1-8:m65"
  },
  "kernelspec": {
   "display_name": "Python 3",
   "language": "python",
   "name": "python3"
  },
  "language_info": {
   "codemirror_mode": {
    "name": "ipython",
    "version": 3
   },
   "file_extension": ".py",
   "mimetype": "text/x-python",
   "name": "python",
   "nbconvert_exporter": "python",
   "pygments_lexer": "ipython3",
   "version": "3.7.10"
  },
  "papermill": {
   "default_parameters": {},
   "duration": 204.768599,
   "end_time": "2021-04-17T03:49:41.787808",
   "environment_variables": {},
   "exception": null,
   "input_path": "__notebook__.ipynb",
   "output_path": "__notebook__.ipynb",
   "parameters": {},
   "start_time": "2021-04-17T03:46:17.019209",
   "version": "2.3.2"
  }
 },
 "nbformat": 4,
 "nbformat_minor": 5
}
