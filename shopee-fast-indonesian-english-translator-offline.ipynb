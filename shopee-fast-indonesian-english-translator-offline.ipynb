{
 "cells": [
  {
   "cell_type": "markdown",
   "metadata": {
    "papermill": {
     "duration": 0.007732,
     "end_time": "2021-05-08T15:02:16.913769",
     "exception": false,
     "start_time": "2021-05-08T15:02:16.906037",
     "status": "completed"
    },
    "tags": []
   },
   "source": [
    "## Who said Python was slow? "
   ]
  },
  {
   "cell_type": "markdown",
   "metadata": {
    "papermill": {
     "duration": 0.006634,
     "end_time": "2021-05-08T15:02:16.927363",
     "exception": false,
     "start_time": "2021-05-08T15:02:16.920729",
     "status": "completed"
    },
    "tags": []
   },
   "source": [
    "Leveraging python built-in functions and dictionaries, that are in fact hash-tables, we can translate the titles of our shopee dataset in no time! <br> Probably benefiting our Bert-based models. Thank's to Allohvk and his great notebook <br>\n",
    "https://www.kaggle.com/allohvk/offline-translator-indonesean-to-english-reverse"
   ]
  },
  {
   "cell_type": "code",
   "execution_count": 14,
   "metadata": {
    "execution": {
     "iopub.execute_input": "2021-05-08T15:02:16.951545Z",
     "iopub.status.busy": "2021-05-08T15:02:16.950812Z",
     "iopub.status.idle": "2021-05-08T15:02:16.962063Z",
     "shell.execute_reply": "2021-05-08T15:02:16.961413Z"
    },
    "papermill": {
     "duration": 0.028164,
     "end_time": "2021-05-08T15:02:16.962216",
     "exception": false,
     "start_time": "2021-05-08T15:02:16.934052",
     "status": "completed"
    },
    "tags": []
   },
   "outputs": [],
   "source": [
    "import pandas as pd\n",
    "import numpy as np\n",
    "from tqdm.notebook import tqdm"
   ]
  },
  {
   "cell_type": "code",
   "execution_count": 15,
   "metadata": {
    "execution": {
     "iopub.execute_input": "2021-05-08T15:02:16.981173Z",
     "iopub.status.busy": "2021-05-08T15:02:16.980375Z",
     "iopub.status.idle": "2021-05-08T15:02:17.218537Z",
     "shell.execute_reply": "2021-05-08T15:02:17.219064Z"
    },
    "papermill": {
     "duration": 0.249744,
     "end_time": "2021-05-08T15:02:17.219260",
     "exception": false,
     "start_time": "2021-05-08T15:02:16.969516",
     "status": "completed"
    },
    "tags": []
   },
   "outputs": [
    {
     "data": {
      "text/html": [
       "<div>\n",
       "<style scoped>\n",
       "    .dataframe tbody tr th:only-of-type {\n",
       "        vertical-align: middle;\n",
       "    }\n",
       "\n",
       "    .dataframe tbody tr th {\n",
       "        vertical-align: top;\n",
       "    }\n",
       "\n",
       "    .dataframe thead th {\n",
       "        text-align: right;\n",
       "    }\n",
       "</style>\n",
       "<table border=\"1\" class=\"dataframe\">\n",
       "  <thead>\n",
       "    <tr style=\"text-align: right;\">\n",
       "      <th></th>\n",
       "      <th>posting_id</th>\n",
       "      <th>image</th>\n",
       "      <th>image_phash</th>\n",
       "      <th>title</th>\n",
       "      <th>label_group</th>\n",
       "      <th>group_counts</th>\n",
       "      <th>psudo_label</th>\n",
       "      <th>fold</th>\n",
       "    </tr>\n",
       "  </thead>\n",
       "  <tbody>\n",
       "    <tr>\n",
       "      <th>0</th>\n",
       "      <td>train_129225211</td>\n",
       "      <td>0000a68812bc7e98c42888dfb1c07da0.jpg</td>\n",
       "      <td>94974f937d4c2433</td>\n",
       "      <td>Paper Bag Victoria Secret</td>\n",
       "      <td>249114794</td>\n",
       "      <td>2</td>\n",
       "      <td>0</td>\n",
       "      <td>3.0</td>\n",
       "    </tr>\n",
       "    <tr>\n",
       "      <th>1</th>\n",
       "      <td>train_3386243561</td>\n",
       "      <td>00039780dfc94d01db8676fe789ecd05.jpg</td>\n",
       "      <td>af3f9460c2838f0f</td>\n",
       "      <td>Double Tape 3M VHB 12 mm x 4,5 m ORIGINAL / DO...</td>\n",
       "      <td>2937985045</td>\n",
       "      <td>2</td>\n",
       "      <td>0</td>\n",
       "      <td>0.0</td>\n",
       "    </tr>\n",
       "    <tr>\n",
       "      <th>2</th>\n",
       "      <td>train_2288590299</td>\n",
       "      <td>000a190fdd715a2a36faed16e2c65df7.jpg</td>\n",
       "      <td>b94cb00ed3e50f78</td>\n",
       "      <td>Maling TTS Canned Pork Luncheon Meat 397 gr</td>\n",
       "      <td>2395904891</td>\n",
       "      <td>2</td>\n",
       "      <td>0</td>\n",
       "      <td>3.0</td>\n",
       "    </tr>\n",
       "    <tr>\n",
       "      <th>3</th>\n",
       "      <td>train_2406599165</td>\n",
       "      <td>00117e4fc239b1b641ff08340b429633.jpg</td>\n",
       "      <td>8514fc58eafea283</td>\n",
       "      <td>Daster Batik Lengan pendek - Motif Acak / Camp...</td>\n",
       "      <td>4093212188</td>\n",
       "      <td>2</td>\n",
       "      <td>0</td>\n",
       "      <td>1.0</td>\n",
       "    </tr>\n",
       "    <tr>\n",
       "      <th>4</th>\n",
       "      <td>train_3369186413</td>\n",
       "      <td>00136d1cf4edede0203f32f05f660588.jpg</td>\n",
       "      <td>a6f319f924ad708c</td>\n",
       "      <td>Nescafe \\xc3\\x89clair Latte 220ml</td>\n",
       "      <td>3648931069</td>\n",
       "      <td>2</td>\n",
       "      <td>0</td>\n",
       "      <td>0.0</td>\n",
       "    </tr>\n",
       "    <tr>\n",
       "      <th>5</th>\n",
       "      <td>train_2464356923</td>\n",
       "      <td>0013e7355ffc5ff8fb1ccad3e42d92fe.jpg</td>\n",
       "      <td>bbd097a7870f4a50</td>\n",
       "      <td>CELANA WANITA  (BB 45-84 KG)Harem wanita (bisa...</td>\n",
       "      <td>2660605217</td>\n",
       "      <td>3</td>\n",
       "      <td>1</td>\n",
       "      <td>4.0</td>\n",
       "    </tr>\n",
       "    <tr>\n",
       "      <th>6</th>\n",
       "      <td>train_1802986387</td>\n",
       "      <td>00144a49c56599d45354a1c28104c039.jpg</td>\n",
       "      <td>f815c9bb833ab4c8</td>\n",
       "      <td>Jubah anak size 1-12 thn</td>\n",
       "      <td>1835033137</td>\n",
       "      <td>7</td>\n",
       "      <td>2</td>\n",
       "      <td>3.0</td>\n",
       "    </tr>\n",
       "    <tr>\n",
       "      <th>7</th>\n",
       "      <td>train_1806152124</td>\n",
       "      <td>0014f61389cbaa687a58e38a97b6383d.jpg</td>\n",
       "      <td>eea7e1c0c04da33d</td>\n",
       "      <td>KULOT PLISKET SALUR /CANDY PLISKET /WISH KULOT...</td>\n",
       "      <td>1565741687</td>\n",
       "      <td>2</td>\n",
       "      <td>0</td>\n",
       "      <td>0.0</td>\n",
       "    </tr>\n",
       "    <tr>\n",
       "      <th>8</th>\n",
       "      <td>train_86570404</td>\n",
       "      <td>0019a3c6755a194cb2e2c12bfc63972e.jpg</td>\n",
       "      <td>ea9af4f483249972</td>\n",
       "      <td>[LOGU] Tempelan kulkas magnet angka, tempelan ...</td>\n",
       "      <td>2359912463</td>\n",
       "      <td>3</td>\n",
       "      <td>1</td>\n",
       "      <td>3.0</td>\n",
       "    </tr>\n",
       "    <tr>\n",
       "      <th>9</th>\n",
       "      <td>train_831680791</td>\n",
       "      <td>001be52b2beec40ddc1d2d7fc7a68f08.jpg</td>\n",
       "      <td>e1ce953d1a70618f</td>\n",
       "      <td>BIG SALE SEPATU PANTOFEL KULIT KEREN KERJA KAN...</td>\n",
       "      <td>2630990665</td>\n",
       "      <td>2</td>\n",
       "      <td>0</td>\n",
       "      <td>3.0</td>\n",
       "    </tr>\n",
       "  </tbody>\n",
       "</table>\n",
       "</div>"
      ],
      "text/plain": [
       "         posting_id                                 image       image_phash  \\\n",
       "0   train_129225211  0000a68812bc7e98c42888dfb1c07da0.jpg  94974f937d4c2433   \n",
       "1  train_3386243561  00039780dfc94d01db8676fe789ecd05.jpg  af3f9460c2838f0f   \n",
       "2  train_2288590299  000a190fdd715a2a36faed16e2c65df7.jpg  b94cb00ed3e50f78   \n",
       "3  train_2406599165  00117e4fc239b1b641ff08340b429633.jpg  8514fc58eafea283   \n",
       "4  train_3369186413  00136d1cf4edede0203f32f05f660588.jpg  a6f319f924ad708c   \n",
       "5  train_2464356923  0013e7355ffc5ff8fb1ccad3e42d92fe.jpg  bbd097a7870f4a50   \n",
       "6  train_1802986387  00144a49c56599d45354a1c28104c039.jpg  f815c9bb833ab4c8   \n",
       "7  train_1806152124  0014f61389cbaa687a58e38a97b6383d.jpg  eea7e1c0c04da33d   \n",
       "8    train_86570404  0019a3c6755a194cb2e2c12bfc63972e.jpg  ea9af4f483249972   \n",
       "9   train_831680791  001be52b2beec40ddc1d2d7fc7a68f08.jpg  e1ce953d1a70618f   \n",
       "\n",
       "                                               title  label_group  \\\n",
       "0                          Paper Bag Victoria Secret    249114794   \n",
       "1  Double Tape 3M VHB 12 mm x 4,5 m ORIGINAL / DO...   2937985045   \n",
       "2        Maling TTS Canned Pork Luncheon Meat 397 gr   2395904891   \n",
       "3  Daster Batik Lengan pendek - Motif Acak / Camp...   4093212188   \n",
       "4                  Nescafe \\xc3\\x89clair Latte 220ml   3648931069   \n",
       "5  CELANA WANITA  (BB 45-84 KG)Harem wanita (bisa...   2660605217   \n",
       "6                           Jubah anak size 1-12 thn   1835033137   \n",
       "7  KULOT PLISKET SALUR /CANDY PLISKET /WISH KULOT...   1565741687   \n",
       "8  [LOGU] Tempelan kulkas magnet angka, tempelan ...   2359912463   \n",
       "9  BIG SALE SEPATU PANTOFEL KULIT KEREN KERJA KAN...   2630990665   \n",
       "\n",
       "   group_counts  psudo_label  fold  \n",
       "0             2            0   3.0  \n",
       "1             2            0   0.0  \n",
       "2             2            0   3.0  \n",
       "3             2            0   1.0  \n",
       "4             2            0   0.0  \n",
       "5             3            1   4.0  \n",
       "6             7            2   3.0  \n",
       "7             2            0   0.0  \n",
       "8             3            1   3.0  \n",
       "9             2            0   3.0  "
      ]
     },
     "execution_count": 15,
     "metadata": {},
     "output_type": "execute_result"
    }
   ],
   "source": [
    "df = pd.read_csv(\"input/train_st_fold42.csv\")\n",
    "df.head(10)"
   ]
  },
  {
   "cell_type": "markdown",
   "metadata": {
    "papermill": {
     "duration": 0.007243,
     "end_time": "2021-05-08T15:02:17.234401",
     "exception": false,
     "start_time": "2021-05-08T15:02:17.227158",
     "status": "completed"
    },
    "tags": []
   },
   "source": [
    "# Create Dictionaries"
   ]
  },
  {
   "cell_type": "code",
   "execution_count": 16,
   "metadata": {
    "execution": {
     "iopub.execute_input": "2021-05-08T15:02:17.252631Z",
     "iopub.status.busy": "2021-05-08T15:02:17.252061Z",
     "iopub.status.idle": "2021-05-08T15:02:17.260165Z",
     "shell.execute_reply": "2021-05-08T15:02:17.259714Z"
    },
    "papermill": {
     "duration": 0.018338,
     "end_time": "2021-05-08T15:02:17.260298",
     "exception": false,
     "start_time": "2021-05-08T15:02:17.241960",
     "status": "completed"
    },
    "tags": []
   },
   "outputs": [],
   "source": [
    "def make_dictionaries():\n",
    "    indo_to_eng_dict = {}\n",
    "    eng_to_indo_dict = {}\n",
    "    with open('indonesean_english_dict.txt') as f:\n",
    "        lines = f.readlines()\n",
    "        for line in tqdm(lines):\n",
    "            if \"\\\"\" in line:\n",
    "                print(\"ignoring: \", line) # skip non-sense line\n",
    "                continue\n",
    "            inputs = line[2:-3].split(\"', '\")\n",
    "            indo_word = inputs[0].lower()\n",
    "            eng_word = inputs[1].lower()\n",
    "            \n",
    "            indo_to_eng_dict[indo_word] = eng_word\n",
    "            eng_to_indo_dict[eng_word] = indo_word\n",
    "    f.close()\n",
    "    return indo_to_eng_dict, eng_to_indo_dict\n"
   ]
  },
  {
   "cell_type": "code",
   "execution_count": 17,
   "metadata": {
    "execution": {
     "iopub.execute_input": "2021-05-08T15:02:17.280336Z",
     "iopub.status.busy": "2021-05-08T15:02:17.279771Z",
     "iopub.status.idle": "2021-05-08T15:02:17.344427Z",
     "shell.execute_reply": "2021-05-08T15:02:17.342222Z"
    },
    "papermill": {
     "duration": 0.07618,
     "end_time": "2021-05-08T15:02:17.344571",
     "exception": false,
     "start_time": "2021-05-08T15:02:17.268391",
     "status": "completed"
    },
    "tags": []
   },
   "outputs": [
    {
     "data": {
      "application/vnd.jupyter.widget-view+json": {
       "model_id": "0730e2ba9cb24db4a5f42c806be181b0",
       "version_major": 2,
       "version_minor": 0
      },
      "text/plain": [
       "  0%|          | 0/2144 [00:00<?, ?it/s]"
      ]
     },
     "metadata": {},
     "output_type": "display_data"
    },
    {
     "name": "stdout",
     "output_type": "stream",
     "text": [
      "ignoring:  ('ALQURAN', \"AL-QUR'AN\")\n",
      "\n"
     ]
    }
   ],
   "source": [
    "INDO_TO_ENG_DICT, ENG_TO_INDO_DICT = make_dictionaries()"
   ]
  },
  {
   "cell_type": "code",
   "execution_count": 18,
   "metadata": {
    "execution": {
     "iopub.execute_input": "2021-05-08T15:02:17.366148Z",
     "iopub.status.busy": "2021-05-08T15:02:17.365431Z",
     "iopub.status.idle": "2021-05-08T15:02:17.371598Z",
     "shell.execute_reply": "2021-05-08T15:02:17.372006Z"
    },
    "papermill": {
     "duration": 0.019201,
     "end_time": "2021-05-08T15:02:17.372178",
     "exception": false,
     "start_time": "2021-05-08T15:02:17.352977",
     "status": "completed"
    },
    "tags": []
   },
   "outputs": [
    {
     "name": "stdout",
     "output_type": "stream",
     "text": [
      "sikut elbow\n",
      "petak map\n",
      "jendela window\n",
      "merek brand\n",
      "gagas failed\n",
      "timi thyme\n",
      "gerigi teeth\n",
      "landak porcupine\n",
      "kasus case\n",
      "itik duck\n"
     ]
    }
   ],
   "source": [
    "i = 0\n",
    "for key, val in INDO_TO_ENG_DICT.items():\n",
    "    print(key, val)\n",
    "    i+=1\n",
    "    if i == 10:\n",
    "        break"
   ]
  },
  {
   "cell_type": "markdown",
   "metadata": {
    "papermill": {
     "duration": 0.008764,
     "end_time": "2021-05-08T15:02:17.389820",
     "exception": false,
     "start_time": "2021-05-08T15:02:17.381056",
     "status": "completed"
    },
    "tags": []
   },
   "source": [
    "# Translate"
   ]
  },
  {
   "cell_type": "code",
   "execution_count": 19,
   "metadata": {
    "execution": {
     "iopub.execute_input": "2021-05-08T15:02:17.412823Z",
     "iopub.status.busy": "2021-05-08T15:02:17.412125Z",
     "iopub.status.idle": "2021-05-08T15:02:17.414894Z",
     "shell.execute_reply": "2021-05-08T15:02:17.415279Z"
    },
    "papermill": {
     "duration": 0.01671,
     "end_time": "2021-05-08T15:02:17.415441",
     "exception": false,
     "start_time": "2021-05-08T15:02:17.398731",
     "status": "completed"
    },
    "tags": []
   },
   "outputs": [],
   "source": [
    "def translate_indo_to_eng(text):\n",
    "    words = text.lower().split()\n",
    "    translated_words = list(map(lambda x : x if x not in INDO_TO_ENG_DICT else INDO_TO_ENG_DICT[x], words))\n",
    "    return \" \".join(translated_words)"
   ]
  },
  {
   "cell_type": "code",
   "execution_count": 20,
   "metadata": {
    "execution": {
     "iopub.execute_input": "2021-05-08T15:02:17.437924Z",
     "iopub.status.busy": "2021-05-08T15:02:17.437142Z",
     "iopub.status.idle": "2021-05-08T15:02:17.440488Z",
     "shell.execute_reply": "2021-05-08T15:02:17.439951Z"
    },
    "papermill": {
     "duration": 0.01642,
     "end_time": "2021-05-08T15:02:17.440620",
     "exception": false,
     "start_time": "2021-05-08T15:02:17.424200",
     "status": "completed"
    },
    "tags": []
   },
   "outputs": [],
   "source": [
    "def translate_eng_to_indo(text):\n",
    "    words = text.lower().split()\n",
    "    translated_words = list(map(lambda x : x if x not in ENG_TO_INDO_DICT else ENG_TO_INDO_DICT[x], words))\n",
    "    return \" \".join(translated_words)"
   ]
  },
  {
   "cell_type": "code",
   "execution_count": 21,
   "metadata": {
    "execution": {
     "iopub.execute_input": "2021-05-08T15:02:17.467413Z",
     "iopub.status.busy": "2021-05-08T15:02:17.466561Z",
     "iopub.status.idle": "2021-05-08T15:02:17.470919Z",
     "shell.execute_reply": "2021-05-08T15:02:17.470374Z"
    },
    "papermill": {
     "duration": 0.021506,
     "end_time": "2021-05-08T15:02:17.471050",
     "exception": false,
     "start_time": "2021-05-08T15:02:17.449544",
     "status": "completed"
    },
    "tags": []
   },
   "outputs": [
    {
     "data": {
      "text/plain": [
       "0                                Paper Bag Victoria Secret\n",
       "1        Double Tape 3M VHB 12 mm x 4,5 m ORIGINAL / DO...\n",
       "2              Maling TTS Canned Pork Luncheon Meat 397 gr\n",
       "3        Daster Batik Lengan pendek - Motif Acak / Camp...\n",
       "4                        Nescafe \\xc3\\x89clair Latte 220ml\n",
       "                               ...                        \n",
       "34245    Masker Bahan Kain Spunbond Non Woven 75 gsm 3 ...\n",
       "34246      MamyPoko Pants Royal Soft - S 70 - Popok Celana\n",
       "34247    KHANZAACC Robot RE101S 1.2mm Subwoofer Bass Me...\n",
       "34248    Kaldu NON MSG HALAL Mama Kamu Ayam Kampung , S...\n",
       "34249    FLEX TAPE PELAPIS BOCOR / ISOLASI AJAIB / ANTI...\n",
       "Name: title, Length: 34250, dtype: object"
      ]
     },
     "execution_count": 21,
     "metadata": {},
     "output_type": "execute_result"
    }
   ],
   "source": [
    "df[\"title\"]"
   ]
  },
  {
   "cell_type": "code",
   "execution_count": 23,
   "metadata": {
    "execution": {
     "iopub.execute_input": "2021-05-08T15:02:17.499069Z",
     "iopub.status.busy": "2021-05-08T15:02:17.493829Z",
     "iopub.status.idle": "2021-05-08T15:02:17.610557Z",
     "shell.execute_reply": "2021-05-08T15:02:17.611084Z"
    },
    "papermill": {
     "duration": 0.131019,
     "end_time": "2021-05-08T15:02:17.611271",
     "exception": false,
     "start_time": "2021-05-08T15:02:17.480252",
     "status": "completed"
    },
    "tags": []
   },
   "outputs": [],
   "source": [
    "df[\"title\"] = df[\"title\"].apply(translate_indo_to_eng)"
   ]
  },
  {
   "cell_type": "code",
   "execution_count": 11,
   "metadata": {
    "execution": {
     "iopub.execute_input": "2021-05-08T15:02:17.635220Z",
     "iopub.status.busy": "2021-05-08T15:02:17.634613Z",
     "iopub.status.idle": "2021-05-08T15:02:17.739204Z",
     "shell.execute_reply": "2021-05-08T15:02:17.739637Z"
    },
    "papermill": {
     "duration": 0.118942,
     "end_time": "2021-05-08T15:02:17.739821",
     "exception": false,
     "start_time": "2021-05-08T15:02:17.620879",
     "status": "completed"
    },
    "tags": []
   },
   "outputs": [],
   "source": [
    "df[\"title\"] = df[\"title\"].apply(translate_eng_to_indo)"
   ]
  },
  {
   "cell_type": "code",
   "execution_count": 25,
   "metadata": {},
   "outputs": [],
   "source": [
    "df.to_csv(\"train_eng.csv\",index=False)"
   ]
  },
  {
   "cell_type": "code",
   "execution_count": null,
   "metadata": {},
   "outputs": [],
   "source": []
  }
 ],
 "metadata": {
  "environment": {
   "name": "pytorch-gpu.1-8.m65",
   "type": "gcloud",
   "uri": "gcr.io/deeplearning-platform-release/pytorch-gpu.1-8:m65"
  },
  "kernelspec": {
   "display_name": "Python 3",
   "language": "python",
   "name": "python3"
  },
  "language_info": {
   "codemirror_mode": {
    "name": "ipython",
    "version": 3
   },
   "file_extension": ".py",
   "mimetype": "text/x-python",
   "name": "python",
   "nbconvert_exporter": "python",
   "pygments_lexer": "ipython3",
   "version": "3.7.9"
  },
  "papermill": {
   "default_parameters": {},
   "duration": 8.456824,
   "end_time": "2021-05-08T15:02:18.357953",
   "environment_variables": {},
   "exception": null,
   "input_path": "__notebook__.ipynb",
   "output_path": "__notebook__.ipynb",
   "parameters": {},
   "start_time": "2021-05-08T15:02:09.901129",
   "version": "2.3.3"
  },
  "widgets": {
   "application/vnd.jupyter.widget-state+json": {
    "state": {
     "022bb8e518484ea7a5aaef41c2f018f2": {
      "model_module": "@jupyter-widgets/controls",
      "model_module_version": "1.5.0",
      "model_name": "HTMLModel",
      "state": {
       "_dom_classes": [],
       "_model_module": "@jupyter-widgets/controls",
       "_model_module_version": "1.5.0",
       "_model_name": "HTMLModel",
       "_view_count": null,
       "_view_module": "@jupyter-widgets/controls",
       "_view_module_version": "1.5.0",
       "_view_name": "HTMLView",
       "description": "",
       "description_tooltip": null,
       "layout": "IPY_MODEL_272fb968adc44133bfadba12780bfa17",
       "placeholder": "​",
       "style": "IPY_MODEL_04ead097211c4b39b32250e5293b8dd1",
       "value": "100%"
      }
     },
     "04ead097211c4b39b32250e5293b8dd1": {
      "model_module": "@jupyter-widgets/controls",
      "model_module_version": "1.5.0",
      "model_name": "DescriptionStyleModel",
      "state": {
       "_model_module": "@jupyter-widgets/controls",
       "_model_module_version": "1.5.0",
       "_model_name": "DescriptionStyleModel",
       "_view_count": null,
       "_view_module": "@jupyter-widgets/base",
       "_view_module_version": "1.2.0",
       "_view_name": "StyleView",
       "description_width": ""
      }
     },
     "1593787005a34d00bdb4c944024a1b04": {
      "model_module": "@jupyter-widgets/controls",
      "model_module_version": "1.5.0",
      "model_name": "FloatProgressModel",
      "state": {
       "_dom_classes": [],
       "_model_module": "@jupyter-widgets/controls",
       "_model_module_version": "1.5.0",
       "_model_name": "FloatProgressModel",
       "_view_count": null,
       "_view_module": "@jupyter-widgets/controls",
       "_view_module_version": "1.5.0",
       "_view_name": "ProgressView",
       "bar_style": "success",
       "description": "",
       "description_tooltip": null,
       "layout": "IPY_MODEL_aae8348c687c453db9e5f79fd8f89c6d",
       "max": 2144,
       "min": 0,
       "orientation": "horizontal",
       "style": "IPY_MODEL_54dec945577b419396cebf79bf826deb",
       "value": 2144
      }
     },
     "272fb968adc44133bfadba12780bfa17": {
      "model_module": "@jupyter-widgets/base",
      "model_module_version": "1.2.0",
      "model_name": "LayoutModel",
      "state": {
       "_model_module": "@jupyter-widgets/base",
       "_model_module_version": "1.2.0",
       "_model_name": "LayoutModel",
       "_view_count": null,
       "_view_module": "@jupyter-widgets/base",
       "_view_module_version": "1.2.0",
       "_view_name": "LayoutView",
       "align_content": null,
       "align_items": null,
       "align_self": null,
       "border": null,
       "bottom": null,
       "display": null,
       "flex": null,
       "flex_flow": null,
       "grid_area": null,
       "grid_auto_columns": null,
       "grid_auto_flow": null,
       "grid_auto_rows": null,
       "grid_column": null,
       "grid_gap": null,
       "grid_row": null,
       "grid_template_areas": null,
       "grid_template_columns": null,
       "grid_template_rows": null,
       "height": null,
       "justify_content": null,
       "justify_items": null,
       "left": null,
       "margin": null,
       "max_height": null,
       "max_width": null,
       "min_height": null,
       "min_width": null,
       "object_fit": null,
       "object_position": null,
       "order": null,
       "overflow": null,
       "overflow_x": null,
       "overflow_y": null,
       "padding": null,
       "right": null,
       "top": null,
       "visibility": null,
       "width": null
      }
     },
     "54dec945577b419396cebf79bf826deb": {
      "model_module": "@jupyter-widgets/controls",
      "model_module_version": "1.5.0",
      "model_name": "ProgressStyleModel",
      "state": {
       "_model_module": "@jupyter-widgets/controls",
       "_model_module_version": "1.5.0",
       "_model_name": "ProgressStyleModel",
       "_view_count": null,
       "_view_module": "@jupyter-widgets/base",
       "_view_module_version": "1.2.0",
       "_view_name": "StyleView",
       "bar_color": null,
       "description_width": ""
      }
     },
     "7d907e30ce9d4925a69a822845fe1949": {
      "model_module": "@jupyter-widgets/controls",
      "model_module_version": "1.5.0",
      "model_name": "DescriptionStyleModel",
      "state": {
       "_model_module": "@jupyter-widgets/controls",
       "_model_module_version": "1.5.0",
       "_model_name": "DescriptionStyleModel",
       "_view_count": null,
       "_view_module": "@jupyter-widgets/base",
       "_view_module_version": "1.2.0",
       "_view_name": "StyleView",
       "description_width": ""
      }
     },
     "837910d4c45646fa9bc35ac09971534c": {
      "model_module": "@jupyter-widgets/base",
      "model_module_version": "1.2.0",
      "model_name": "LayoutModel",
      "state": {
       "_model_module": "@jupyter-widgets/base",
       "_model_module_version": "1.2.0",
       "_model_name": "LayoutModel",
       "_view_count": null,
       "_view_module": "@jupyter-widgets/base",
       "_view_module_version": "1.2.0",
       "_view_name": "LayoutView",
       "align_content": null,
       "align_items": null,
       "align_self": null,
       "border": null,
       "bottom": null,
       "display": null,
       "flex": null,
       "flex_flow": null,
       "grid_area": null,
       "grid_auto_columns": null,
       "grid_auto_flow": null,
       "grid_auto_rows": null,
       "grid_column": null,
       "grid_gap": null,
       "grid_row": null,
       "grid_template_areas": null,
       "grid_template_columns": null,
       "grid_template_rows": null,
       "height": null,
       "justify_content": null,
       "justify_items": null,
       "left": null,
       "margin": null,
       "max_height": null,
       "max_width": null,
       "min_height": null,
       "min_width": null,
       "object_fit": null,
       "object_position": null,
       "order": null,
       "overflow": null,
       "overflow_x": null,
       "overflow_y": null,
       "padding": null,
       "right": null,
       "top": null,
       "visibility": null,
       "width": null
      }
     },
     "9d08dcfb4d8745959518e6a4e715ff0e": {
      "model_module": "@jupyter-widgets/controls",
      "model_module_version": "1.5.0",
      "model_name": "HBoxModel",
      "state": {
       "_dom_classes": [],
       "_model_module": "@jupyter-widgets/controls",
       "_model_module_version": "1.5.0",
       "_model_name": "HBoxModel",
       "_view_count": null,
       "_view_module": "@jupyter-widgets/controls",
       "_view_module_version": "1.5.0",
       "_view_name": "HBoxView",
       "box_style": "",
       "children": [
        "IPY_MODEL_022bb8e518484ea7a5aaef41c2f018f2",
        "IPY_MODEL_1593787005a34d00bdb4c944024a1b04",
        "IPY_MODEL_dd786d45166e4f1aa3715c628793970d"
       ],
       "layout": "IPY_MODEL_9ff76a668172456fb9a4868ac148e53f"
      }
     },
     "9ff76a668172456fb9a4868ac148e53f": {
      "model_module": "@jupyter-widgets/base",
      "model_module_version": "1.2.0",
      "model_name": "LayoutModel",
      "state": {
       "_model_module": "@jupyter-widgets/base",
       "_model_module_version": "1.2.0",
       "_model_name": "LayoutModel",
       "_view_count": null,
       "_view_module": "@jupyter-widgets/base",
       "_view_module_version": "1.2.0",
       "_view_name": "LayoutView",
       "align_content": null,
       "align_items": null,
       "align_self": null,
       "border": null,
       "bottom": null,
       "display": null,
       "flex": null,
       "flex_flow": null,
       "grid_area": null,
       "grid_auto_columns": null,
       "grid_auto_flow": null,
       "grid_auto_rows": null,
       "grid_column": null,
       "grid_gap": null,
       "grid_row": null,
       "grid_template_areas": null,
       "grid_template_columns": null,
       "grid_template_rows": null,
       "height": null,
       "justify_content": null,
       "justify_items": null,
       "left": null,
       "margin": null,
       "max_height": null,
       "max_width": null,
       "min_height": null,
       "min_width": null,
       "object_fit": null,
       "object_position": null,
       "order": null,
       "overflow": null,
       "overflow_x": null,
       "overflow_y": null,
       "padding": null,
       "right": null,
       "top": null,
       "visibility": null,
       "width": null
      }
     },
     "aae8348c687c453db9e5f79fd8f89c6d": {
      "model_module": "@jupyter-widgets/base",
      "model_module_version": "1.2.0",
      "model_name": "LayoutModel",
      "state": {
       "_model_module": "@jupyter-widgets/base",
       "_model_module_version": "1.2.0",
       "_model_name": "LayoutModel",
       "_view_count": null,
       "_view_module": "@jupyter-widgets/base",
       "_view_module_version": "1.2.0",
       "_view_name": "LayoutView",
       "align_content": null,
       "align_items": null,
       "align_self": null,
       "border": null,
       "bottom": null,
       "display": null,
       "flex": null,
       "flex_flow": null,
       "grid_area": null,
       "grid_auto_columns": null,
       "grid_auto_flow": null,
       "grid_auto_rows": null,
       "grid_column": null,
       "grid_gap": null,
       "grid_row": null,
       "grid_template_areas": null,
       "grid_template_columns": null,
       "grid_template_rows": null,
       "height": null,
       "justify_content": null,
       "justify_items": null,
       "left": null,
       "margin": null,
       "max_height": null,
       "max_width": null,
       "min_height": null,
       "min_width": null,
       "object_fit": null,
       "object_position": null,
       "order": null,
       "overflow": null,
       "overflow_x": null,
       "overflow_y": null,
       "padding": null,
       "right": null,
       "top": null,
       "visibility": null,
       "width": null
      }
     },
     "dd786d45166e4f1aa3715c628793970d": {
      "model_module": "@jupyter-widgets/controls",
      "model_module_version": "1.5.0",
      "model_name": "HTMLModel",
      "state": {
       "_dom_classes": [],
       "_model_module": "@jupyter-widgets/controls",
       "_model_module_version": "1.5.0",
       "_model_name": "HTMLModel",
       "_view_count": null,
       "_view_module": "@jupyter-widgets/controls",
       "_view_module_version": "1.5.0",
       "_view_name": "HTMLView",
       "description": "",
       "description_tooltip": null,
       "layout": "IPY_MODEL_837910d4c45646fa9bc35ac09971534c",
       "placeholder": "​",
       "style": "IPY_MODEL_7d907e30ce9d4925a69a822845fe1949",
       "value": " 2144/2144 [00:00&lt;00:00, 74743.28it/s]"
      }
     }
    },
    "version_major": 2,
    "version_minor": 0
   }
  }
 },
 "nbformat": 4,
 "nbformat_minor": 5
}
